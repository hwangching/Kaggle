{
 "cells": [
  {
   "cell_type": "code",
   "execution_count": 1,
   "metadata": {},
   "outputs": [],
   "source": [
    "import pandas as pd\n",
    "import numpy as np\n",
    "from sklearn.model_selection import train_test_split\n",
    "import seaborn as sns\n",
    "import matplotlib.pyplot as plt"
   ]
  },
  {
   "cell_type": "markdown",
   "metadata": {},
   "source": [
    "### Data Description\n",
    "**survival:** Survival\t0 = No, 1 = Yes<br>\n",
    "**pclass:** Ticket class\t1 = 1st, 2 = 2nd, 3 = 3rd<br>\n",
    "**sex:** Sex\t<br>\n",
    "** Age:** Age in years\t<br>\n",
    "** sibsp:** # of siblings / spouses aboard the Titanic\t<br>\n",
    "** parch:** # of parents / children aboard the Titanic\t<br>\n",
    "** ticket:** Ticket number\t<br>\n",
    "** fare:** Passenger fare\t<br>\n",
    "** cabin:** Cabin number\t<br>\n",
    "** embarked:** Port of Embarkation\tC = Cherbourg, Q = Queenstown, S = Southampton<br>"
   ]
  },
  {
   "cell_type": "code",
   "execution_count": 2,
   "metadata": {},
   "outputs": [],
   "source": [
    "train=pd.read_csv('train.csv')\n",
    "test=pd.read_csv('test.csv')\n",
    "gender_submission=pd.read_csv('gender_submission.csv')"
   ]
  },
  {
   "cell_type": "code",
   "execution_count": 3,
   "metadata": {},
   "outputs": [
    {
     "data": {
      "text/html": [
       "<div>\n",
       "<style scoped>\n",
       "    .dataframe tbody tr th:only-of-type {\n",
       "        vertical-align: middle;\n",
       "    }\n",
       "\n",
       "    .dataframe tbody tr th {\n",
       "        vertical-align: top;\n",
       "    }\n",
       "\n",
       "    .dataframe thead th {\n",
       "        text-align: right;\n",
       "    }\n",
       "</style>\n",
       "<table border=\"1\" class=\"dataframe\">\n",
       "  <thead>\n",
       "    <tr style=\"text-align: right;\">\n",
       "      <th></th>\n",
       "      <th>PassengerId</th>\n",
       "      <th>Survived</th>\n",
       "      <th>Pclass</th>\n",
       "      <th>Name</th>\n",
       "      <th>Sex</th>\n",
       "      <th>Age</th>\n",
       "      <th>SibSp</th>\n",
       "      <th>Parch</th>\n",
       "      <th>Ticket</th>\n",
       "      <th>Fare</th>\n",
       "      <th>Cabin</th>\n",
       "      <th>Embarked</th>\n",
       "    </tr>\n",
       "  </thead>\n",
       "  <tbody>\n",
       "    <tr>\n",
       "      <th>0</th>\n",
       "      <td>1</td>\n",
       "      <td>0</td>\n",
       "      <td>3</td>\n",
       "      <td>Braund, Mr. Owen Harris</td>\n",
       "      <td>male</td>\n",
       "      <td>22.0</td>\n",
       "      <td>1</td>\n",
       "      <td>0</td>\n",
       "      <td>A/5 21171</td>\n",
       "      <td>7.2500</td>\n",
       "      <td>NaN</td>\n",
       "      <td>S</td>\n",
       "    </tr>\n",
       "    <tr>\n",
       "      <th>1</th>\n",
       "      <td>2</td>\n",
       "      <td>1</td>\n",
       "      <td>1</td>\n",
       "      <td>Cumings, Mrs. John Bradley (Florence Briggs Th...</td>\n",
       "      <td>female</td>\n",
       "      <td>38.0</td>\n",
       "      <td>1</td>\n",
       "      <td>0</td>\n",
       "      <td>PC 17599</td>\n",
       "      <td>71.2833</td>\n",
       "      <td>C85</td>\n",
       "      <td>C</td>\n",
       "    </tr>\n",
       "  </tbody>\n",
       "</table>\n",
       "</div>"
      ],
      "text/plain": [
       "   PassengerId  Survived  Pclass  \\\n",
       "0            1         0       3   \n",
       "1            2         1       1   \n",
       "\n",
       "                                                Name     Sex   Age  SibSp  \\\n",
       "0                            Braund, Mr. Owen Harris    male  22.0      1   \n",
       "1  Cumings, Mrs. John Bradley (Florence Briggs Th...  female  38.0      1   \n",
       "\n",
       "   Parch     Ticket     Fare Cabin Embarked  \n",
       "0      0  A/5 21171   7.2500   NaN        S  \n",
       "1      0   PC 17599  71.2833   C85        C  "
      ]
     },
     "execution_count": 3,
     "metadata": {},
     "output_type": "execute_result"
    }
   ],
   "source": [
    "train.head(2)"
   ]
  },
  {
   "cell_type": "code",
   "execution_count": 4,
   "metadata": {},
   "outputs": [],
   "source": [
    "continous_columns=['Age','SibSp','Parch','Fare']\n",
    "category_columns=['Pclass','Embarked']"
   ]
  },
  {
   "cell_type": "code",
   "execution_count": 5,
   "metadata": {},
   "outputs": [
    {
     "data": {
      "text/plain": [
       "PassengerId      0\n",
       "Survived         0\n",
       "Pclass           0\n",
       "Name             0\n",
       "Sex              0\n",
       "Age            177\n",
       "SibSp            0\n",
       "Parch            0\n",
       "Ticket           0\n",
       "Fare             0\n",
       "Cabin          687\n",
       "Embarked         2\n",
       "dtype: int64"
      ]
     },
     "execution_count": 5,
     "metadata": {},
     "output_type": "execute_result"
    }
   ],
   "source": [
    "train.isna().sum()"
   ]
  },
  {
   "cell_type": "code",
   "execution_count": 6,
   "metadata": {},
   "outputs": [
    {
     "data": {
      "text/plain": [
       "PassengerId      0\n",
       "Pclass           0\n",
       "Name             0\n",
       "Sex              0\n",
       "Age             86\n",
       "SibSp            0\n",
       "Parch            0\n",
       "Ticket           0\n",
       "Fare             1\n",
       "Cabin          327\n",
       "Embarked         0\n",
       "dtype: int64"
      ]
     },
     "execution_count": 6,
     "metadata": {},
     "output_type": "execute_result"
    }
   ],
   "source": [
    "test.isna().sum()"
   ]
  },
  {
   "cell_type": "markdown",
   "metadata": {},
   "source": [
    "### 合併train test "
   ]
  },
  {
   "cell_type": "code",
   "execution_count": 7,
   "metadata": {},
   "outputs": [],
   "source": [
    "train=train.reset_index()\n",
    "train['index']='train'+train['index'].astype(str)\n",
    "test=test.reset_index()\n",
    "test['index']='test'+test['index'].astype(str)"
   ]
  },
  {
   "cell_type": "code",
   "execution_count": 8,
   "metadata": {},
   "outputs": [],
   "source": [
    "combine=train.append(test,sort=True).reset_index(drop=True)"
   ]
  },
  {
   "cell_type": "code",
   "execution_count": 9,
   "metadata": {},
   "outputs": [
    {
     "data": {
      "text/plain": [
       "(1309, 13)"
      ]
     },
     "execution_count": 9,
     "metadata": {},
     "output_type": "execute_result"
    }
   ],
   "source": [
    "combine.shape"
   ]
  },
  {
   "cell_type": "markdown",
   "metadata": {},
   "source": [
    "#### 票價\n",
    "找出票價與哪項特徵的相關係數最高"
   ]
  },
  {
   "cell_type": "code",
   "execution_count": 10,
   "metadata": {},
   "outputs": [
    {
     "data": {
      "text/plain": [
       "Age            0.178740\n",
       "Fare           1.000000\n",
       "Parch          0.221539\n",
       "PassengerId    0.031428\n",
       "Pclass        -0.558629\n",
       "SibSp          0.160238\n",
       "Survived       0.257307\n",
       "Name: Fare, dtype: float64"
      ]
     },
     "execution_count": 10,
     "metadata": {},
     "output_type": "execute_result"
    }
   ],
   "source": [
    "combine.corr()['Fare']"
   ]
  },
  {
   "cell_type": "code",
   "execution_count": 11,
   "metadata": {
    "scrolled": true
   },
   "outputs": [
    {
     "data": {
      "text/html": [
       "<div>\n",
       "<style scoped>\n",
       "    .dataframe tbody tr th:only-of-type {\n",
       "        vertical-align: middle;\n",
       "    }\n",
       "\n",
       "    .dataframe tbody tr th {\n",
       "        vertical-align: top;\n",
       "    }\n",
       "\n",
       "    .dataframe thead th {\n",
       "        text-align: right;\n",
       "    }\n",
       "</style>\n",
       "<table border=\"1\" class=\"dataframe\">\n",
       "  <thead>\n",
       "    <tr style=\"text-align: right;\">\n",
       "      <th></th>\n",
       "      <th>Age</th>\n",
       "      <th>Cabin</th>\n",
       "      <th>Embarked</th>\n",
       "      <th>Fare</th>\n",
       "      <th>Name</th>\n",
       "      <th>Parch</th>\n",
       "      <th>PassengerId</th>\n",
       "      <th>Pclass</th>\n",
       "      <th>Sex</th>\n",
       "      <th>SibSp</th>\n",
       "      <th>Survived</th>\n",
       "      <th>Ticket</th>\n",
       "      <th>index</th>\n",
       "    </tr>\n",
       "  </thead>\n",
       "  <tbody>\n",
       "    <tr>\n",
       "      <th>1043</th>\n",
       "      <td>60.5</td>\n",
       "      <td>NaN</td>\n",
       "      <td>S</td>\n",
       "      <td>NaN</td>\n",
       "      <td>Storey, Mr. Thomas</td>\n",
       "      <td>0</td>\n",
       "      <td>1044</td>\n",
       "      <td>3</td>\n",
       "      <td>male</td>\n",
       "      <td>0</td>\n",
       "      <td>NaN</td>\n",
       "      <td>3701</td>\n",
       "      <td>test152</td>\n",
       "    </tr>\n",
       "  </tbody>\n",
       "</table>\n",
       "</div>"
      ],
      "text/plain": [
       "       Age Cabin Embarked  Fare                Name  Parch  PassengerId  \\\n",
       "1043  60.5   NaN        S   NaN  Storey, Mr. Thomas      0         1044   \n",
       "\n",
       "      Pclass   Sex  SibSp  Survived Ticket    index  \n",
       "1043       3  male      0       NaN   3701  test152  "
      ]
     },
     "execution_count": 11,
     "metadata": {},
     "output_type": "execute_result"
    }
   ],
   "source": [
    "combine[combine.Fare.isnull()]\n",
    "##Ticket==3701"
   ]
  },
  {
   "cell_type": "markdown",
   "metadata": {},
   "source": [
    "依照Pclass來區分，Fare的遺漏值用中位數填充，平均數易受最大最小值影響，而中位數代表的數值相對較明確"
   ]
  },
  {
   "cell_type": "code",
   "execution_count": 12,
   "metadata": {},
   "outputs": [],
   "source": [
    "Pclass=combine[combine.Ticket=='3701'].Pclass.values[0]\n",
    "combine['Fare']=combine['Fare'].fillna(combine[combine.Pclass==Pclass]['Fare'].median())"
   ]
  },
  {
   "cell_type": "markdown",
   "metadata": {},
   "source": [
    "#### Embarked\n",
    "Embarked 依照 Ticket號碼 或 Cabin 前後排序皆為 S"
   ]
  },
  {
   "cell_type": "code",
   "execution_count": 13,
   "metadata": {},
   "outputs": [
    {
     "data": {
      "text/html": [
       "<div>\n",
       "<style scoped>\n",
       "    .dataframe tbody tr th:only-of-type {\n",
       "        vertical-align: middle;\n",
       "    }\n",
       "\n",
       "    .dataframe tbody tr th {\n",
       "        vertical-align: top;\n",
       "    }\n",
       "\n",
       "    .dataframe thead th {\n",
       "        text-align: right;\n",
       "    }\n",
       "</style>\n",
       "<table border=\"1\" class=\"dataframe\">\n",
       "  <thead>\n",
       "    <tr style=\"text-align: right;\">\n",
       "      <th></th>\n",
       "      <th>Age</th>\n",
       "      <th>Cabin</th>\n",
       "      <th>Embarked</th>\n",
       "      <th>Fare</th>\n",
       "      <th>Name</th>\n",
       "      <th>Parch</th>\n",
       "      <th>PassengerId</th>\n",
       "      <th>Pclass</th>\n",
       "      <th>Sex</th>\n",
       "      <th>SibSp</th>\n",
       "      <th>Survived</th>\n",
       "      <th>Ticket</th>\n",
       "      <th>index</th>\n",
       "    </tr>\n",
       "  </thead>\n",
       "  <tbody>\n",
       "    <tr>\n",
       "      <th>1057</th>\n",
       "      <td>48.0</td>\n",
       "      <td>B10</td>\n",
       "      <td>C</td>\n",
       "      <td>50.4958</td>\n",
       "      <td>Brandeis, Mr. Emil</td>\n",
       "      <td>0</td>\n",
       "      <td>1058</td>\n",
       "      <td>1</td>\n",
       "      <td>male</td>\n",
       "      <td>0</td>\n",
       "      <td>NaN</td>\n",
       "      <td>PC 17591</td>\n",
       "      <td>test166</td>\n",
       "    </tr>\n",
       "    <tr>\n",
       "      <th>737</th>\n",
       "      <td>35.0</td>\n",
       "      <td>B101</td>\n",
       "      <td>C</td>\n",
       "      <td>512.3292</td>\n",
       "      <td>Lesurer, Mr. Gustave J</td>\n",
       "      <td>0</td>\n",
       "      <td>738</td>\n",
       "      <td>1</td>\n",
       "      <td>male</td>\n",
       "      <td>0</td>\n",
       "      <td>1.0</td>\n",
       "      <td>PC 17755</td>\n",
       "      <td>train737</td>\n",
       "    </tr>\n",
       "    <tr>\n",
       "      <th>815</th>\n",
       "      <td>NaN</td>\n",
       "      <td>B102</td>\n",
       "      <td>S</td>\n",
       "      <td>0.0000</td>\n",
       "      <td>Fry, Mr. Richard</td>\n",
       "      <td>0</td>\n",
       "      <td>816</td>\n",
       "      <td>1</td>\n",
       "      <td>male</td>\n",
       "      <td>0</td>\n",
       "      <td>0.0</td>\n",
       "      <td>112058</td>\n",
       "      <td>train815</td>\n",
       "    </tr>\n",
       "    <tr>\n",
       "      <th>1106</th>\n",
       "      <td>42.0</td>\n",
       "      <td>B11</td>\n",
       "      <td>S</td>\n",
       "      <td>42.5000</td>\n",
       "      <td>Head, Mr. Christopher</td>\n",
       "      <td>0</td>\n",
       "      <td>1107</td>\n",
       "      <td>1</td>\n",
       "      <td>male</td>\n",
       "      <td>0</td>\n",
       "      <td>NaN</td>\n",
       "      <td>113038</td>\n",
       "      <td>test215</td>\n",
       "    </tr>\n",
       "    <tr>\n",
       "      <th>523</th>\n",
       "      <td>44.0</td>\n",
       "      <td>B18</td>\n",
       "      <td>C</td>\n",
       "      <td>57.9792</td>\n",
       "      <td>Hippach, Mrs. Louis Albert (Ida Sophia Fischer)</td>\n",
       "      <td>1</td>\n",
       "      <td>524</td>\n",
       "      <td>1</td>\n",
       "      <td>female</td>\n",
       "      <td>0</td>\n",
       "      <td>1.0</td>\n",
       "      <td>111361</td>\n",
       "      <td>train523</td>\n",
       "    </tr>\n",
       "    <tr>\n",
       "      <th>...</th>\n",
       "      <td>...</td>\n",
       "      <td>...</td>\n",
       "      <td>...</td>\n",
       "      <td>...</td>\n",
       "      <td>...</td>\n",
       "      <td>...</td>\n",
       "      <td>...</td>\n",
       "      <td>...</td>\n",
       "      <td>...</td>\n",
       "      <td>...</td>\n",
       "      <td>...</td>\n",
       "      <td>...</td>\n",
       "      <td>...</td>\n",
       "    </tr>\n",
       "    <tr>\n",
       "      <th>263</th>\n",
       "      <td>40.0</td>\n",
       "      <td>B94</td>\n",
       "      <td>S</td>\n",
       "      <td>0.0000</td>\n",
       "      <td>Harrison, Mr. William</td>\n",
       "      <td>0</td>\n",
       "      <td>264</td>\n",
       "      <td>1</td>\n",
       "      <td>male</td>\n",
       "      <td>0</td>\n",
       "      <td>0.0</td>\n",
       "      <td>112059</td>\n",
       "      <td>train263</td>\n",
       "    </tr>\n",
       "    <tr>\n",
       "      <th>763</th>\n",
       "      <td>36.0</td>\n",
       "      <td>B96 B98</td>\n",
       "      <td>S</td>\n",
       "      <td>120.0000</td>\n",
       "      <td>Carter, Mrs. William Ernest (Lucile Polk)</td>\n",
       "      <td>2</td>\n",
       "      <td>764</td>\n",
       "      <td>1</td>\n",
       "      <td>female</td>\n",
       "      <td>1</td>\n",
       "      <td>1.0</td>\n",
       "      <td>113760</td>\n",
       "      <td>train763</td>\n",
       "    </tr>\n",
       "    <tr>\n",
       "      <th>390</th>\n",
       "      <td>36.0</td>\n",
       "      <td>B96 B98</td>\n",
       "      <td>S</td>\n",
       "      <td>120.0000</td>\n",
       "      <td>Carter, Mr. William Ernest</td>\n",
       "      <td>2</td>\n",
       "      <td>391</td>\n",
       "      <td>1</td>\n",
       "      <td>male</td>\n",
       "      <td>1</td>\n",
       "      <td>1.0</td>\n",
       "      <td>113760</td>\n",
       "      <td>train390</td>\n",
       "    </tr>\n",
       "    <tr>\n",
       "      <th>802</th>\n",
       "      <td>11.0</td>\n",
       "      <td>B96 B98</td>\n",
       "      <td>S</td>\n",
       "      <td>120.0000</td>\n",
       "      <td>Carter, Master. William Thornton II</td>\n",
       "      <td>2</td>\n",
       "      <td>803</td>\n",
       "      <td>1</td>\n",
       "      <td>male</td>\n",
       "      <td>1</td>\n",
       "      <td>1.0</td>\n",
       "      <td>113760</td>\n",
       "      <td>train802</td>\n",
       "    </tr>\n",
       "    <tr>\n",
       "      <th>435</th>\n",
       "      <td>14.0</td>\n",
       "      <td>B96 B98</td>\n",
       "      <td>S</td>\n",
       "      <td>120.0000</td>\n",
       "      <td>Carter, Miss. Lucile Polk</td>\n",
       "      <td>2</td>\n",
       "      <td>436</td>\n",
       "      <td>1</td>\n",
       "      <td>female</td>\n",
       "      <td>1</td>\n",
       "      <td>1.0</td>\n",
       "      <td>113760</td>\n",
       "      <td>train435</td>\n",
       "    </tr>\n",
       "  </tbody>\n",
       "</table>\n",
       "<p>65 rows × 13 columns</p>\n",
       "</div>"
      ],
      "text/plain": [
       "       Age    Cabin Embarked      Fare  \\\n",
       "1057  48.0      B10        C   50.4958   \n",
       "737   35.0     B101        C  512.3292   \n",
       "815    NaN     B102        S    0.0000   \n",
       "1106  42.0      B11        S   42.5000   \n",
       "523   44.0      B18        C   57.9792   \n",
       "...    ...      ...      ...       ...   \n",
       "263   40.0      B94        S    0.0000   \n",
       "763   36.0  B96 B98        S  120.0000   \n",
       "390   36.0  B96 B98        S  120.0000   \n",
       "802   11.0  B96 B98        S  120.0000   \n",
       "435   14.0  B96 B98        S  120.0000   \n",
       "\n",
       "                                                 Name  Parch  PassengerId  \\\n",
       "1057                               Brandeis, Mr. Emil      0         1058   \n",
       "737                            Lesurer, Mr. Gustave J      0          738   \n",
       "815                                  Fry, Mr. Richard      0          816   \n",
       "1106                            Head, Mr. Christopher      0         1107   \n",
       "523   Hippach, Mrs. Louis Albert (Ida Sophia Fischer)      1          524   \n",
       "...                                               ...    ...          ...   \n",
       "263                             Harrison, Mr. William      0          264   \n",
       "763         Carter, Mrs. William Ernest (Lucile Polk)      2          764   \n",
       "390                        Carter, Mr. William Ernest      2          391   \n",
       "802               Carter, Master. William Thornton II      2          803   \n",
       "435                         Carter, Miss. Lucile Polk      2          436   \n",
       "\n",
       "      Pclass     Sex  SibSp  Survived    Ticket     index  \n",
       "1057       1    male      0       NaN  PC 17591   test166  \n",
       "737        1    male      0       1.0  PC 17755  train737  \n",
       "815        1    male      0       0.0    112058  train815  \n",
       "1106       1    male      0       NaN    113038   test215  \n",
       "523        1  female      0       1.0    111361  train523  \n",
       "...      ...     ...    ...       ...       ...       ...  \n",
       "263        1    male      0       0.0    112059  train263  \n",
       "763        1  female      1       1.0    113760  train763  \n",
       "390        1    male      1       1.0    113760  train390  \n",
       "802        1    male      1       1.0    113760  train802  \n",
       "435        1  female      1       1.0    113760  train435  \n",
       "\n",
       "[65 rows x 13 columns]"
      ]
     },
     "execution_count": 13,
     "metadata": {},
     "output_type": "execute_result"
    }
   ],
   "source": [
    "combine[~combine.Cabin.isnull()&combine.Cabin.str.contains('B')].sort_values('Cabin')"
   ]
  },
  {
   "cell_type": "code",
   "execution_count": 14,
   "metadata": {
    "scrolled": true
   },
   "outputs": [],
   "source": [
    "combine['Embarked']=combine['Embarked'].fillna('S')"
   ]
  },
  {
   "cell_type": "markdown",
   "metadata": {},
   "source": [
    "**特殊title** \n",
    "* Jonkheer:貴族頭銜\n",
    "* the Countess:伯爵夫人\n",
    "* Major:少校\n",
    "* Master: 少爺\n",
    "* Col:上校\n",
    "* Rev:牧師\n",
    "* Mlle:未婚女性(法)\n",
    "* Mme:夫人(Madame)\n",
    "* Don:貴族尊稱男性\n",
    "* Dona:貴族尊稱女性\n",
    "* Capt:船長"
   ]
  },
  {
   "cell_type": "code",
   "execution_count": 15,
   "metadata": {},
   "outputs": [],
   "source": [
    "def findtitle(x):\n",
    "    title=x[x.find(',')+1:x.find('.')].strip()\n",
    "    for string in ['Mlle','Miss','Ms']:\n",
    "        if title==string:\n",
    "            title='Miss'\n",
    "    for string in ['Mrs','Mme']:\n",
    "        if title==string:\n",
    "            title='Mrs'\n",
    "    for string in ['Don','Jonkheer','Sir','the Countess','Dona','Lady']:\n",
    "        if title==string:\n",
    "            title='Royalty'\n",
    "    for string in ['Capt','Col','Major','Dr','Rev']:\n",
    "        if title==string:\n",
    "            title='Others'\n",
    "    return title\n",
    "combine['title']=combine['Name'].apply(findtitle)"
   ]
  },
  {
   "cell_type": "code",
   "execution_count": 16,
   "metadata": {},
   "outputs": [],
   "source": [
    "def findName(x):\n",
    "    FirstName=x[:x.find(',')].strip()\n",
    "    if x.find('Mr')>0:\n",
    "        x=x[x.find('Mr'):].replace('\")','')\n",
    "        if x.find('(')>0:\n",
    "            x=x[:x.find('(')].strip()\n",
    "    if x.find('Mrs')>0:\n",
    "        x=x[x.find('Mrs'):].replace('\")','')\n",
    "        if x.find('(')>0:\n",
    "            x=x[:x.find('(')].strip()\n",
    "    for string in ['Mrs.','Mrs','Dona.','Mme.','the Countess. of (']:\n",
    "        if string in x:\n",
    "            x=x.replace(string,'Mrs.').replace(')','')\n",
    "            if x.find('\"')!=-1:\n",
    "                x=x[x.find(\"Mrs.\"):x.find('\"')]\n",
    "            else:\n",
    "                x=x[x.find(\"Mrs.\"):]\n",
    "            break\n",
    "            break\n",
    "    for string_ in ['Ms','Mlle','Miss.']:\n",
    "        if string_ in x:\n",
    "            x=x.replace(string_,'Miss.').replace(')','')\n",
    "            if x.find('\"')!=-1:\n",
    "                x=x[x.find(\"Miss.\"):x.find('\"')]\n",
    "            else:\n",
    "                x=x[x.find(\"Miss.\"):]\n",
    "            break\n",
    "    for string in ['Mr.','Mr ','Don.', 'Rev.', 'Dr.', 'Major.', 'Sir.','Col.', 'Capt.', 'Jonkheer.']:\n",
    "        if string in x:\n",
    "            x=x.replace(string,'Mr.').replace(')','')\n",
    "            if x.find('\"')!=-1:\n",
    "                x=x[x.find(\"Mr.\"):x.find('\"')]\n",
    "            else:\n",
    "                x=x[x.find(\"Mr.\"):]\n",
    "            break\n",
    "    if 'Master.' in x:\n",
    "        x=x[x.find(\"Master.\"):x.find('\"')]\n",
    "        \n",
    "    return(FirstName+','+x.strip())\n",
    "combine['Name_adj']=combine['Name'].apply(findName)"
   ]
  },
  {
   "cell_type": "code",
   "execution_count": 17,
   "metadata": {},
   "outputs": [
    {
     "data": {
      "text/plain": [
       "array(['Mr', 'Mrs', 'Miss', 'Master', 'Royalty', 'Others'], dtype=object)"
      ]
     },
     "execution_count": 17,
     "metadata": {},
     "output_type": "execute_result"
    }
   ],
   "source": [
    "combine.title.unique()"
   ]
  },
  {
   "cell_type": "markdown",
   "metadata": {},
   "source": [
    "#### 年齡\n",
    "用姓名(已婚未婚)來區分年齡，並用姓名的相似度來找尋夫妻"
   ]
  },
  {
   "cell_type": "code",
   "execution_count": 18,
   "metadata": {},
   "outputs": [],
   "source": [
    "import difflib\n",
    "find_couple=combine[(combine.SibSp>=1)&(combine.title!='Master')].sort_values(['Name_adj','Ticket','Cabin','Embarked']).reset_index(drop=True)\n",
    "def string_similar(s1, s2):\n",
    "    return difflib.SequenceMatcher(None, s1, s2).quick_ratio()\n",
    "def similarity(x):\n",
    "    gender=x[x.find(','):x.find('.')]\n",
    "    most_similar=0\n",
    "    for name  in list(find_couple['Name_adj']):\n",
    "        if name!=x:\n",
    "            if most_similar < string_similar(x,name):\n",
    "                most_similar=string_similar(x,name)\n",
    "                similar_name=name\n",
    "    similar_gender=similar_name[similar_name.find(','):similar_name.find('.')]\n",
    "    if gender!=similar_gender:\n",
    "        return most_similar,similar_name\n",
    "find_couple['couple_name']=find_couple['Name_adj'].apply(similarity)\n",
    "find_couple[['similarity','couple_name']]=pd.DataFrame(find_couple['couple_name'].tolist(), index=find_couple.index)          "
   ]
  },
  {
   "cell_type": "code",
   "execution_count": 19,
   "metadata": {},
   "outputs": [],
   "source": [
    "def check_name(x):\n",
    "    couple_name=x['couple_name']\n",
    "    if x['couple_onboard']==0:\n",
    "        couple_name=None\n",
    "    return couple_name\n",
    "find_couple['couple_onboard']=find_couple['similarity'].apply(lambda x:1 if x>0.9 else 0)\n",
    "find_couple['couple_name']=find_couple.apply(check_name,axis=1)"
   ]
  },
  {
   "cell_type": "code",
   "execution_count": 21,
   "metadata": {},
   "outputs": [
    {
     "data": {
      "text/html": [
       "<div>\n",
       "<style scoped>\n",
       "    .dataframe tbody tr th:only-of-type {\n",
       "        vertical-align: middle;\n",
       "    }\n",
       "\n",
       "    .dataframe tbody tr th {\n",
       "        vertical-align: top;\n",
       "    }\n",
       "\n",
       "    .dataframe thead th {\n",
       "        text-align: right;\n",
       "    }\n",
       "</style>\n",
       "<table border=\"1\" class=\"dataframe\">\n",
       "  <thead>\n",
       "    <tr style=\"text-align: right;\">\n",
       "      <th></th>\n",
       "      <th>PassengerId</th>\n",
       "      <th>Name_adj</th>\n",
       "      <th>couple_onboard</th>\n",
       "      <th>couple_name</th>\n",
       "    </tr>\n",
       "  </thead>\n",
       "  <tbody>\n",
       "    <tr>\n",
       "      <th>0</th>\n",
       "      <td>747</td>\n",
       "      <td>Abbott,Mr. Rossmore Edward</td>\n",
       "      <td>0</td>\n",
       "      <td>None</td>\n",
       "    </tr>\n",
       "    <tr>\n",
       "      <th>1</th>\n",
       "      <td>280</td>\n",
       "      <td>Abbott,Mrs. Stanton</td>\n",
       "      <td>0</td>\n",
       "      <td>None</td>\n",
       "    </tr>\n",
       "    <tr>\n",
       "      <th>2</th>\n",
       "      <td>309</td>\n",
       "      <td>Abelson,Mr. Samuel</td>\n",
       "      <td>1</td>\n",
       "      <td>Abelson,Mrs. Samuel</td>\n",
       "    </tr>\n",
       "    <tr>\n",
       "      <th>3</th>\n",
       "      <td>875</td>\n",
       "      <td>Abelson,Mrs. Samuel</td>\n",
       "      <td>1</td>\n",
       "      <td>Abelson,Mr. Samuel</td>\n",
       "    </tr>\n",
       "    <tr>\n",
       "      <th>4</th>\n",
       "      <td>41</td>\n",
       "      <td>Ahlin,Mrs. Johan</td>\n",
       "      <td>0</td>\n",
       "      <td>None</td>\n",
       "    </tr>\n",
       "    <tr>\n",
       "      <th>...</th>\n",
       "      <td>...</td>\n",
       "      <td>...</td>\n",
       "      <td>...</td>\n",
       "      <td>...</td>\n",
       "    </tr>\n",
       "    <tr>\n",
       "      <th>365</th>\n",
       "      <td>241</td>\n",
       "      <td>Zabour,Miss. Thamine</td>\n",
       "      <td>0</td>\n",
       "      <td>None</td>\n",
       "    </tr>\n",
       "    <tr>\n",
       "      <th>366</th>\n",
       "      <td>1152</td>\n",
       "      <td>de Messemaeker,Mr. Guillaume Joseph</td>\n",
       "      <td>1</td>\n",
       "      <td>de Messemaeker,Mrs. Guillaume Joseph</td>\n",
       "    </tr>\n",
       "    <tr>\n",
       "      <th>367</th>\n",
       "      <td>560</td>\n",
       "      <td>de Messemaeker,Mrs. Guillaume Joseph</td>\n",
       "      <td>1</td>\n",
       "      <td>de Messemaeker,Mr. Guillaume Joseph</td>\n",
       "    </tr>\n",
       "    <tr>\n",
       "      <th>368</th>\n",
       "      <td>362</td>\n",
       "      <td>del Carlo,Mr. Sebastiano</td>\n",
       "      <td>1</td>\n",
       "      <td>del Carlo,Mrs. Sebastiano</td>\n",
       "    </tr>\n",
       "    <tr>\n",
       "      <th>369</th>\n",
       "      <td>907</td>\n",
       "      <td>del Carlo,Mrs. Sebastiano</td>\n",
       "      <td>1</td>\n",
       "      <td>del Carlo,Mr. Sebastiano</td>\n",
       "    </tr>\n",
       "  </tbody>\n",
       "</table>\n",
       "<p>370 rows × 4 columns</p>\n",
       "</div>"
      ],
      "text/plain": [
       "     PassengerId                              Name_adj  couple_onboard  \\\n",
       "0            747            Abbott,Mr. Rossmore Edward               0   \n",
       "1            280                   Abbott,Mrs. Stanton               0   \n",
       "2            309                    Abelson,Mr. Samuel               1   \n",
       "3            875                   Abelson,Mrs. Samuel               1   \n",
       "4             41                      Ahlin,Mrs. Johan               0   \n",
       "..           ...                                   ...             ...   \n",
       "365          241                  Zabour,Miss. Thamine               0   \n",
       "366         1152   de Messemaeker,Mr. Guillaume Joseph               1   \n",
       "367          560  de Messemaeker,Mrs. Guillaume Joseph               1   \n",
       "368          362              del Carlo,Mr. Sebastiano               1   \n",
       "369          907             del Carlo,Mrs. Sebastiano               1   \n",
       "\n",
       "                              couple_name  \n",
       "0                                    None  \n",
       "1                                    None  \n",
       "2                     Abelson,Mrs. Samuel  \n",
       "3                      Abelson,Mr. Samuel  \n",
       "4                                    None  \n",
       "..                                    ...  \n",
       "365                                  None  \n",
       "366  de Messemaeker,Mrs. Guillaume Joseph  \n",
       "367   de Messemaeker,Mr. Guillaume Joseph  \n",
       "368             del Carlo,Mrs. Sebastiano  \n",
       "369              del Carlo,Mr. Sebastiano  \n",
       "\n",
       "[370 rows x 4 columns]"
      ]
     },
     "execution_count": 21,
     "metadata": {},
     "output_type": "execute_result"
    }
   ],
   "source": [
    "find_couple[['PassengerId','Name_adj','couple_onboard','couple_name']]"
   ]
  },
  {
   "cell_type": "markdown",
   "metadata": {},
   "source": [
    "#### 根據婚姻狀況來說，結婚的乘客年紀較大，用中位數來填補空值"
   ]
  },
  {
   "cell_type": "code",
   "execution_count": 22,
   "metadata": {},
   "outputs": [],
   "source": [
    "combine=combine.merge(find_couple[['PassengerId','Name_adj','couple_onboard','couple_name']],how='left')\n",
    "combine['couple_onboard']=combine['couple_onboard'].fillna(0)"
   ]
  },
  {
   "cell_type": "code",
   "execution_count": 23,
   "metadata": {},
   "outputs": [
    {
     "data": {
      "text/plain": [
       "couple_onboard  Sex   \n",
       "0.0             female    24.5\n",
       "                male      27.0\n",
       "1.0             female    33.5\n",
       "                male      37.5\n",
       "Name: Age, dtype: float64"
      ]
     },
     "execution_count": 23,
     "metadata": {},
     "output_type": "execute_result"
    }
   ],
   "source": [
    "combine.groupby(['couple_onboard','Sex'])['Age'].median()"
   ]
  },
  {
   "cell_type": "code",
   "execution_count": 24,
   "metadata": {},
   "outputs": [],
   "source": [
    "combine.loc[(combine.couple_onboard==1)&(combine.Sex=='male'),'Age']=combine.loc[(combine.couple_onboard==1)&(combine.Sex=='male'),'Age'].fillna(37.5)\n",
    "combine.loc[(combine.couple_onboard==1)&(combine.Sex=='female'),'Age']=combine.loc[(combine.couple_onboard==1)&(combine.Sex=='female'),'Age'].fillna(33.5)\n",
    "\n",
    "combine.loc[(combine.couple_onboard==0)&(combine.Sex=='male'),'Age']=combine.loc[(combine.couple_onboard==0)&(combine.Sex=='male'),'Age'].fillna(27.0)\n",
    "combine.loc[(combine.couple_onboard==0)&(combine.Sex=='female'),'Age']=combine.loc[(combine.couple_onboard==0)&(combine.Sex=='female'),'Age'].fillna(24.5)"
   ]
  },
  {
   "cell_type": "markdown",
   "metadata": {},
   "source": [
    "# Feature Engineering\n",
    "#### 同號船票"
   ]
  },
  {
   "cell_type": "code",
   "execution_count": 25,
   "metadata": {},
   "outputs": [],
   "source": [
    "Ticket=combine['Ticket'].value_counts().to_frame(name='Ticket_count').reset_index().rename(columns={'index':'Ticket'})\n",
    "combine=combine.merge(Ticket,how='left')"
   ]
  },
  {
   "cell_type": "code",
   "execution_count": 26,
   "metadata": {},
   "outputs": [
    {
     "data": {
      "text/plain": [
       "<matplotlib.axes._subplots.AxesSubplot at 0x7f19852f1e48>"
      ]
     },
     "execution_count": 26,
     "metadata": {},
     "output_type": "execute_result"
    },
    {
     "data": {
      "image/png": "[encoded data removed]",
      "text/plain": [
       "<Figure size 432x288 with 1 Axes>"
      ]
     },
     "metadata": {
      "needs_background": "light"
     },
     "output_type": "display_data"
    }
   ],
   "source": [
    "sns.barplot(data=combine,x='Ticket_count',y='Survived')"
   ]
  },
  {
   "cell_type": "code",
   "execution_count": 27,
   "metadata": {},
   "outputs": [],
   "source": [
    "def size(x):\n",
    "    if x==1:\n",
    "        return 1\n",
    "    elif 4>=x>=2:\n",
    "        return 2\n",
    "    else:\n",
    "        return 3\n",
    "combine['Ticket_size']=combine['Ticket_count'].apply(size)"
   ]
  },
  {
   "cell_type": "code",
   "execution_count": 28,
   "metadata": {},
   "outputs": [
    {
     "data": {
      "text/plain": [
       "<matplotlib.axes._subplots.AxesSubplot at 0x7f19859c5710>"
      ]
     },
     "execution_count": 28,
     "metadata": {},
     "output_type": "execute_result"
    },
    {
     "data": {
      "image/png": "[encoded data removed]",
      "text/plain": [
       "<Figure size 432x288 with 1 Axes>"
      ]
     },
     "metadata": {
      "needs_background": "light"
     },
     "output_type": "display_data"
    }
   ],
   "source": [
    "sns.barplot(data=combine,x='Ticket_size',y='Survived')"
   ]
  },
  {
   "cell_type": "markdown",
   "metadata": {},
   "source": [
    "#### family-size"
   ]
  },
  {
   "cell_type": "code",
   "execution_count": 29,
   "metadata": {},
   "outputs": [
    {
     "data": {
      "text/html": [
       "<div>\n",
       "<style scoped>\n",
       "    .dataframe tbody tr th:only-of-type {\n",
       "        vertical-align: middle;\n",
       "    }\n",
       "\n",
       "    .dataframe tbody tr th {\n",
       "        vertical-align: top;\n",
       "    }\n",
       "\n",
       "    .dataframe thead th {\n",
       "        text-align: right;\n",
       "    }\n",
       "</style>\n",
       "<table border=\"1\" class=\"dataframe\">\n",
       "  <thead>\n",
       "    <tr style=\"text-align: right;\">\n",
       "      <th></th>\n",
       "      <th>Age</th>\n",
       "      <th>Cabin</th>\n",
       "      <th>Embarked</th>\n",
       "      <th>Fare</th>\n",
       "      <th>Name</th>\n",
       "      <th>Parch</th>\n",
       "      <th>PassengerId</th>\n",
       "      <th>Pclass</th>\n",
       "      <th>Sex</th>\n",
       "      <th>SibSp</th>\n",
       "      <th>Survived</th>\n",
       "      <th>Ticket</th>\n",
       "      <th>index</th>\n",
       "      <th>title</th>\n",
       "      <th>Name_adj</th>\n",
       "      <th>couple_onboard</th>\n",
       "      <th>couple_name</th>\n",
       "      <th>Ticket_count</th>\n",
       "      <th>Ticket_size</th>\n",
       "    </tr>\n",
       "  </thead>\n",
       "  <tbody>\n",
       "    <tr>\n",
       "      <th>0</th>\n",
       "      <td>22.0</td>\n",
       "      <td>NaN</td>\n",
       "      <td>S</td>\n",
       "      <td>7.2500</td>\n",
       "      <td>Braund, Mr. Owen Harris</td>\n",
       "      <td>0</td>\n",
       "      <td>1</td>\n",
       "      <td>3</td>\n",
       "      <td>male</td>\n",
       "      <td>1</td>\n",
       "      <td>0.0</td>\n",
       "      <td>A/5 21171</td>\n",
       "      <td>train0</td>\n",
       "      <td>Mr</td>\n",
       "      <td>Braund,Mr. Owen Harris</td>\n",
       "      <td>0.0</td>\n",
       "      <td>None</td>\n",
       "      <td>1</td>\n",
       "      <td>1</td>\n",
       "    </tr>\n",
       "    <tr>\n",
       "      <th>1</th>\n",
       "      <td>38.0</td>\n",
       "      <td>C85</td>\n",
       "      <td>C</td>\n",
       "      <td>71.2833</td>\n",
       "      <td>Cumings, Mrs. John Bradley (Florence Briggs Th...</td>\n",
       "      <td>0</td>\n",
       "      <td>2</td>\n",
       "      <td>1</td>\n",
       "      <td>female</td>\n",
       "      <td>1</td>\n",
       "      <td>1.0</td>\n",
       "      <td>PC 17599</td>\n",
       "      <td>train1</td>\n",
       "      <td>Mrs</td>\n",
       "      <td>Cumings,Mrs. John Bradley</td>\n",
       "      <td>1.0</td>\n",
       "      <td>Cumings,Mr. John Bradley</td>\n",
       "      <td>2</td>\n",
       "      <td>2</td>\n",
       "    </tr>\n",
       "    <tr>\n",
       "      <th>2</th>\n",
       "      <td>26.0</td>\n",
       "      <td>NaN</td>\n",
       "      <td>S</td>\n",
       "      <td>7.9250</td>\n",
       "      <td>Heikkinen, Miss. Laina</td>\n",
       "      <td>0</td>\n",
       "      <td>3</td>\n",
       "      <td>3</td>\n",
       "      <td>female</td>\n",
       "      <td>0</td>\n",
       "      <td>1.0</td>\n",
       "      <td>STON/O2. 3101282</td>\n",
       "      <td>train2</td>\n",
       "      <td>Miss</td>\n",
       "      <td>Heikkinen,Miss. Laina</td>\n",
       "      <td>0.0</td>\n",
       "      <td>NaN</td>\n",
       "      <td>1</td>\n",
       "      <td>1</td>\n",
       "    </tr>\n",
       "  </tbody>\n",
       "</table>\n",
       "</div>"
      ],
      "text/plain": [
       "    Age Cabin Embarked     Fare  \\\n",
       "0  22.0   NaN        S   7.2500   \n",
       "1  38.0   C85        C  71.2833   \n",
       "2  26.0   NaN        S   7.9250   \n",
       "\n",
       "                                                Name  Parch  PassengerId  \\\n",
       "0                            Braund, Mr. Owen Harris      0            1   \n",
       "1  Cumings, Mrs. John Bradley (Florence Briggs Th...      0            2   \n",
       "2                             Heikkinen, Miss. Laina      0            3   \n",
       "\n",
       "   Pclass     Sex  SibSp  Survived            Ticket   index title  \\\n",
       "0       3    male      1       0.0         A/5 21171  train0    Mr   \n",
       "1       1  female      1       1.0          PC 17599  train1   Mrs   \n",
       "2       3  female      0       1.0  STON/O2. 3101282  train2  Miss   \n",
       "\n",
       "                    Name_adj  couple_onboard               couple_name  \\\n",
       "0     Braund,Mr. Owen Harris             0.0                      None   \n",
       "1  Cumings,Mrs. John Bradley             1.0  Cumings,Mr. John Bradley   \n",
       "2      Heikkinen,Miss. Laina             0.0                       NaN   \n",
       "\n",
       "   Ticket_count  Ticket_size  \n",
       "0             1            1  \n",
       "1             2            2  \n",
       "2             1            1  "
      ]
     },
     "execution_count": 29,
     "metadata": {},
     "output_type": "execute_result"
    }
   ],
   "source": [
    "combine.head(3)"
   ]
  },
  {
   "cell_type": "code",
   "execution_count": 30,
   "metadata": {},
   "outputs": [
    {
     "data": {
      "text/plain": [
       "<matplotlib.axes._subplots.AxesSubplot at 0x7f198589df28>"
      ]
     },
     "execution_count": 30,
     "metadata": {},
     "output_type": "execute_result"
    },
    {
     "data": {
      "image/png": "[encoded data removed]",
      "text/plain": [
       "<Figure size 432x288 with 1 Axes>"
      ]
     },
     "metadata": {
      "needs_background": "light"
     },
     "output_type": "display_data"
    }
   ],
   "source": [
    "combine['Family_num']=combine['SibSp']+combine['Parch']+1\n",
    "sns.barplot(data=combine,x='Family_num',y='Survived')"
   ]
  },
  {
   "cell_type": "code",
   "execution_count": 31,
   "metadata": {},
   "outputs": [
    {
     "data": {
      "text/plain": [
       "<matplotlib.axes._subplots.AxesSubplot at 0x7f19857a4898>"
      ]
     },
     "execution_count": 31,
     "metadata": {},
     "output_type": "execute_result"
    },
    {
     "data": {
      "image/png": "[encoded data removed]",
      "text/plain": [
       "<Figure size 432x288 with 1 Axes>"
      ]
     },
     "metadata": {
      "needs_background": "light"
     },
     "output_type": "display_data"
    }
   ],
   "source": [
    "combine['Family_size']=combine['Family_num'].apply(size)\n",
    "sns.barplot(data=combine,x='Family_size',y='Survived')"
   ]
  },
  {
   "cell_type": "markdown",
   "metadata": {},
   "source": [
    "#### couple_survived"
   ]
  },
  {
   "cell_type": "code",
   "execution_count": 32,
   "metadata": {},
   "outputs": [],
   "source": [
    "couple_table=combine[['Name_adj','Survived']]\n",
    "couple_table.columns=['couple_name','couple_survived']"
   ]
  },
  {
   "cell_type": "code",
   "execution_count": 33,
   "metadata": {},
   "outputs": [],
   "source": [
    "combine=combine.merge(couple_table,how='left')"
   ]
  },
  {
   "cell_type": "code",
   "execution_count": 34,
   "metadata": {},
   "outputs": [],
   "source": [
    "combine['couple_survived']=combine['couple_survived'].fillna('U')"
   ]
  },
  {
   "cell_type": "code",
   "execution_count": 35,
   "metadata": {},
   "outputs": [
    {
     "data": {
      "text/plain": [
       "<matplotlib.axes._subplots.AxesSubplot at 0x7f1985618b70>"
      ]
     },
     "execution_count": 35,
     "metadata": {},
     "output_type": "execute_result"
    },
    {
     "data": {
      "image/png": "[encoded data removed]",
      "text/plain": [
       "<Figure size 432x288 with 1 Axes>"
      ]
     },
     "metadata": {
      "needs_background": "light"
     },
     "output_type": "display_data"
    }
   ],
   "source": [
    "sns.barplot(data=combine,x='couple_survived',y='Survived')"
   ]
  },
  {
   "cell_type": "markdown",
   "metadata": {},
   "source": [
    "#### Age\n",
    "14~25 : 1<br>\n",
    "26~35 : 2<br>\n",
    "36~45 : 3<br>\n",
    "46~   : 4"
   ]
  },
  {
   "cell_type": "code",
   "execution_count": 36,
   "metadata": {},
   "outputs": [],
   "source": [
    "labels=[i for i in range(1,6)]\n",
    "combine['Age_cut']=pd.cut(x=combine.Age,bins=[0,15,24,28,38,max(combine.Age)+1],labels=labels)"
   ]
  },
  {
   "cell_type": "code",
   "execution_count": 37,
   "metadata": {},
   "outputs": [
    {
     "data": {
      "text/plain": [
       "3    373\n",
       "2    293\n",
       "5    266\n",
       "4    262\n",
       "1    115\n",
       "Name: Age_cut, dtype: int64"
      ]
     },
     "execution_count": 37,
     "metadata": {},
     "output_type": "execute_result"
    }
   ],
   "source": [
    "combine.Age_cut.value_counts()"
   ]
  },
  {
   "cell_type": "code",
   "execution_count": 38,
   "metadata": {},
   "outputs": [
    {
     "data": {
      "text/plain": [
       "<matplotlib.axes._subplots.AxesSubplot at 0x7f1985effd68>"
      ]
     },
     "execution_count": 38,
     "metadata": {},
     "output_type": "execute_result"
    },
    {
     "data": {
      "image/png": "[encoded data removed]",
      "text/plain": [
       "<Figure size 432x288 with 1 Axes>"
      ]
     },
     "metadata": {
      "needs_background": "light"
     },
     "output_type": "display_data"
    }
   ],
   "source": [
    "sns.barplot(data=combine,x='Age_cut',y='Survived')"
   ]
  },
  {
   "cell_type": "markdown",
   "metadata": {},
   "source": [
    "#### 同家族存活率"
   ]
  },
  {
   "cell_type": "code",
   "execution_count": 39,
   "metadata": {},
   "outputs": [],
   "source": [
    "combine['First_name']=combine['Name_adj'].apply(lambda x:x.split(',')[0].strip())"
   ]
  },
  {
   "cell_type": "code",
   "execution_count": 40,
   "metadata": {},
   "outputs": [
    {
     "data": {
      "text/plain": [
       "Andersson     11\n",
       "Sage          11\n",
       "Goodwin        8\n",
       "Asplund        8\n",
       "Davies         7\n",
       "              ..\n",
       "Mernagh        1\n",
       "Sheerlinck     1\n",
       "Bracken        1\n",
       "Shorney        1\n",
       "Potter         1\n",
       "Name: First_name, Length: 875, dtype: int64"
      ]
     },
     "execution_count": 40,
     "metadata": {},
     "output_type": "execute_result"
    }
   ],
   "source": [
    "combine.First_name.value_counts()"
   ]
  },
  {
   "cell_type": "markdown",
   "metadata": {},
   "source": [
    "#### 相同First_name 票號會相同"
   ]
  },
  {
   "cell_type": "code",
   "execution_count": 41,
   "metadata": {},
   "outputs": [
    {
     "data": {
      "text/plain": [
       "CA. 2343    11\n",
       "Name: Ticket, dtype: int64"
      ]
     },
     "execution_count": 41,
     "metadata": {},
     "output_type": "execute_result"
    }
   ],
   "source": [
    "combine[combine.First_name=='Sage']['Ticket'].value_counts()"
   ]
  },
  {
   "cell_type": "code",
   "execution_count": 42,
   "metadata": {},
   "outputs": [],
   "source": [
    "family_table=combine[(combine.First_name.isin(list(combine.First_name.value_counts().index)))&(combine.Ticket_count>3)]"
   ]
  },
  {
   "cell_type": "code",
   "execution_count": 43,
   "metadata": {},
   "outputs": [],
   "source": [
    "First_name_table=family_table[['First_name','Ticket_count']].drop_duplicates(['First_name','Ticket_count'])\n",
    "First_name_table=First_name_table.set_index('First_name')"
   ]
  },
  {
   "cell_type": "markdown",
   "metadata": {},
   "source": [
    "**計算同船家人的存活率**"
   ]
  },
  {
   "cell_type": "code",
   "execution_count": 44,
   "metadata": {},
   "outputs": [],
   "source": [
    "First_name_table['Family_survived_rate']=family_table.groupby('First_name').Survived.sum()/family_table.groupby('First_name').Survived.count()"
   ]
  },
  {
   "cell_type": "code",
   "execution_count": 45,
   "metadata": {},
   "outputs": [],
   "source": [
    "First_name_table=First_name_table.reset_index()"
   ]
  },
  {
   "cell_type": "code",
   "execution_count": 46,
   "metadata": {},
   "outputs": [],
   "source": [
    "combine=combine.merge(First_name_table,on=['First_name','Ticket_count'],how='left')"
   ]
  },
  {
   "cell_type": "code",
   "execution_count": 47,
   "metadata": {},
   "outputs": [],
   "source": [
    "combine['Family_survived_rate']=combine['Family_survived_rate'].fillna('NaN')"
   ]
  },
  {
   "cell_type": "code",
   "execution_count": 48,
   "metadata": {},
   "outputs": [],
   "source": [
    "def categorical(x):\n",
    "    if x!='NaN':\n",
    "        if x==0:\n",
    "            x=0\n",
    "        elif 0.5>=x>0:\n",
    "            x=1\n",
    "        else:\n",
    "            x=2\n",
    "    return x\n",
    "combine.Family_survived_rate=combine.Family_survived_rate.apply(categorical)"
   ]
  },
  {
   "cell_type": "code",
   "execution_count": 49,
   "metadata": {},
   "outputs": [
    {
     "data": {
      "text/plain": [
       "<matplotlib.axes._subplots.AxesSubplot at 0x7f1985d36cc0>"
      ]
     },
     "execution_count": 49,
     "metadata": {},
     "output_type": "execute_result"
    },
    {
     "data": {
      "image/png": "[encoded data removed]",
      "text/plain": [
       "<Figure size 432x288 with 1 Axes>"
      ]
     },
     "metadata": {
      "needs_background": "light"
     },
     "output_type": "display_data"
    }
   ],
   "source": [
    "sns.barplot(data=combine,x='Family_survived_rate',y='Survived')"
   ]
  },
  {
   "cell_type": "markdown",
   "metadata": {},
   "source": [
    "# Model Building"
   ]
  },
  {
   "cell_type": "code",
   "execution_count": 50,
   "metadata": {},
   "outputs": [],
   "source": [
    "categorical=['Embarked','Pclass','Sex','title', 'couple_onboard','Ticket_size','Family_size','couple_survived','Age_cut', 'Family_survived_rate','Survived'] \n",
    "continuous=['Fare','Parch','SibSp','Ticket_count','Family_num']\n"
   ]
  },
  {
   "cell_type": "code",
   "execution_count": 51,
   "metadata": {},
   "outputs": [],
   "source": [
    "for col in categorical:\n",
    "    combine[col] = combine[col].astype(\"category\").cat.codes"
   ]
  },
  {
   "cell_type": "code",
   "execution_count": 53,
   "metadata": {},
   "outputs": [],
   "source": [
    "## train_test_split\n",
    "train_ori=combine[combine[\"index\"].str.contains('train')].drop(columns=['index','Age', 'Cabin','Name','Ticket','Name_adj','couple_name','First_name']).set_index('PassengerId')\n",
    "test_ori=combine[combine[\"index\"].str.contains('test')].drop(columns=['index','Age', 'Cabin','Name','Ticket','Name_adj','couple_name','First_name']).set_index('PassengerId')\n",
    "y=train_ori[['Survived']]\n",
    "x=train_ori[categorical+continuous].drop(columns='Survived')\n",
    "output_x_ori=test_ori[categorical+continuous].drop(columns='Survived')\n",
    "x_train_ori, x_test_ori, y_train, y_test = train_test_split(x, y,\n",
    "                                                random_state=10, test_size=0.25)"
   ]
  },
  {
   "cell_type": "markdown",
   "metadata": {},
   "source": [
    "**將連續型數值標準化**"
   ]
  },
  {
   "cell_type": "code",
   "execution_count": 56,
   "metadata": {},
   "outputs": [],
   "source": [
    "from sklearn.preprocessing import StandardScaler\n",
    "train=combine[combine[\"index\"].str.contains('train')].drop(columns=['index','Age', 'Cabin','Name','Ticket','Name_adj','couple_name','First_name']).set_index('PassengerId')\n",
    "test=combine[combine[\"index\"].str.contains('test')].drop(columns=['index','Age', 'Cabin','Name','Ticket','Name_adj','couple_name','First_name']).set_index('PassengerId')\n",
    "scaler = StandardScaler()\n",
    "df_scaled = pd.DataFrame(scaler.fit_transform(train[continuous]),columns =continuous).set_index(train.index)\n",
    "df_scaled_test = pd.DataFrame(scaler.fit_transform(test[continuous]),columns =continuous).set_index(test.index)\n",
    "train_std=pd.concat([train[categorical],df_scaled],axis=1)\n",
    "test_std=pd.concat([test[categorical],df_scaled_test],axis=1)\n",
    "y=train_std[['Survived']]\n",
    "x=train_std[categorical+continuous].drop(columns='Survived')\n",
    "output_x_std=test_std[categorical+continuous].drop(columns='Survived')\n",
    "x_train_std, x_test_std, y_train_std, y_test_std = train_test_split(x, y,\n",
    "                                                random_state=10, test_size=0.25)"
   ]
  },
  {
   "cell_type": "code",
   "execution_count": 57,
   "metadata": {},
   "outputs": [],
   "source": [
    "def builtmodel(model,param,x_train,x_test,output_x):\n",
    "    grid_search = GridSearchCV(model, param_grid=param, cv = 3, scoring=\"roc_auc\",\n",
    "                                   verbose=10, n_jobs=-1)\n",
    "    grid_search.fit(x_train, y_train)\n",
    "    return (grid_search,grid_search.predict(output_x).astype(int))\n",
    "\n",
    "def auc(m, train, test): \n",
    "    return (metrics.roc_auc_score(y_train,m.predict_proba(train)[:,1]),\n",
    "        metrics.roc_auc_score(y_test,m.predict_proba(test)[:,1]))"
   ]
  },
  {
   "cell_type": "code",
   "execution_count": 58,
   "metadata": {},
   "outputs": [],
   "source": [
    "output=pd.DataFrame()"
   ]
  },
  {
   "cell_type": "code",
   "execution_count": 59,
   "metadata": {
    "collapsed": true
   },
   "outputs": [
    {
     "name": "stdout",
     "output_type": "stream",
     "text": [
      "Fitting 3 folds for each of 315 candidates, totalling 945 fits\n"
     ]
    },
    {
     "name": "stderr",
     "output_type": "stream",
     "text": [
      "[Parallel(n_jobs=-1)]: Using backend LokyBackend with 16 concurrent workers.\n",
      "[Parallel(n_jobs=-1)]: Done   9 tasks      | elapsed:    2.6s\n",
      "[Parallel(n_jobs=-1)]: Done  18 tasks      | elapsed:    2.8s\n",
      "[Parallel(n_jobs=-1)]: Done  29 tasks      | elapsed:    3.3s\n",
      "[Parallel(n_jobs=-1)]: Done  40 tasks      | elapsed:    3.5s\n",
      "[Parallel(n_jobs=-1)]: Done  53 tasks      | elapsed:    4.0s\n",
      "[Parallel(n_jobs=-1)]: Done  66 tasks      | elapsed:    4.4s\n",
      "[Parallel(n_jobs=-1)]: Done  81 tasks      | elapsed:    4.8s\n",
      "[Parallel(n_jobs=-1)]: Done  96 tasks      | elapsed:    5.4s\n",
      "[Parallel(n_jobs=-1)]: Done 113 tasks      | elapsed:    6.0s\n",
      "[Parallel(n_jobs=-1)]: Done 130 tasks      | elapsed:    6.5s\n",
      "[Parallel(n_jobs=-1)]: Done 149 tasks      | elapsed:    7.0s\n",
      "[Parallel(n_jobs=-1)]: Done 168 tasks      | elapsed:    7.6s\n",
      "[Parallel(n_jobs=-1)]: Done 189 tasks      | elapsed:    8.2s\n",
      "[Parallel(n_jobs=-1)]: Done 210 tasks      | elapsed:    8.9s\n",
      "[Parallel(n_jobs=-1)]: Done 233 tasks      | elapsed:    9.7s\n",
      "[Parallel(n_jobs=-1)]: Done 256 tasks      | elapsed:   10.4s\n",
      "[Parallel(n_jobs=-1)]: Done 281 tasks      | elapsed:   11.3s\n",
      "[Parallel(n_jobs=-1)]: Done 306 tasks      | elapsed:   12.0s\n",
      "[Parallel(n_jobs=-1)]: Done 333 tasks      | elapsed:   12.8s\n",
      "[Parallel(n_jobs=-1)]: Done 360 tasks      | elapsed:   13.7s\n",
      "[Parallel(n_jobs=-1)]: Done 389 tasks      | elapsed:   14.7s\n",
      "[Parallel(n_jobs=-1)]: Done 418 tasks      | elapsed:   15.5s\n",
      "[Parallel(n_jobs=-1)]: Done 449 tasks      | elapsed:   16.6s\n",
      "[Parallel(n_jobs=-1)]: Done 480 tasks      | elapsed:   17.5s\n",
      "[Parallel(n_jobs=-1)]: Done 513 tasks      | elapsed:   18.7s\n",
      "[Parallel(n_jobs=-1)]: Done 546 tasks      | elapsed:   19.6s\n",
      "[Parallel(n_jobs=-1)]: Done 581 tasks      | elapsed:   20.8s\n",
      "[Parallel(n_jobs=-1)]: Done 616 tasks      | elapsed:   22.2s\n",
      "[Parallel(n_jobs=-1)]: Done 653 tasks      | elapsed:   23.4s\n",
      "[Parallel(n_jobs=-1)]: Done 690 tasks      | elapsed:   24.5s\n",
      "[Parallel(n_jobs=-1)]: Done 729 tasks      | elapsed:   25.9s\n",
      "[Parallel(n_jobs=-1)]: Done 768 tasks      | elapsed:   27.2s\n",
      "[Parallel(n_jobs=-1)]: Done 809 tasks      | elapsed:   28.7s\n",
      "[Parallel(n_jobs=-1)]: Done 850 tasks      | elapsed:   30.0s\n",
      "[Parallel(n_jobs=-1)]: Done 893 tasks      | elapsed:   31.4s\n",
      "[Parallel(n_jobs=-1)]: Done 945 out of 945 | elapsed:   33.1s finished\n",
      "/home/jim/.local/lib/python3.6/site-packages/sklearn/preprocessing/label.py:219: DataConversionWarning: A column-vector y was passed when a 1d array was expected. Please change the shape of y to (n_samples, ), for example using ravel().\n",
      "  y = column_or_1d(y, warn=True)\n",
      "/home/jim/.local/lib/python3.6/site-packages/sklearn/preprocessing/label.py:252: DataConversionWarning: A column-vector y was passed when a 1d array was expected. Please change the shape of y to (n_samples, ), for example using ravel().\n",
      "  y = column_or_1d(y, warn=True)\n"
     ]
    },
    {
     "name": "stdout",
     "output_type": "stream",
     "text": [
      "Fitting 3 folds for each of 315 candidates, totalling 945 fits\n"
     ]
    },
    {
     "name": "stderr",
     "output_type": "stream",
     "text": [
      "[Parallel(n_jobs=-1)]: Using backend LokyBackend with 16 concurrent workers.\n",
      "[Parallel(n_jobs=-1)]: Done   9 tasks      | elapsed:    1.8s\n",
      "[Parallel(n_jobs=-1)]: Done  18 tasks      | elapsed:    2.2s\n",
      "[Parallel(n_jobs=-1)]: Done  29 tasks      | elapsed:    2.5s\n",
      "[Parallel(n_jobs=-1)]: Done  40 tasks      | elapsed:    2.9s\n",
      "[Parallel(n_jobs=-1)]: Done  53 tasks      | elapsed:    3.4s\n",
      "[Parallel(n_jobs=-1)]: Done  66 tasks      | elapsed:    3.8s\n",
      "[Parallel(n_jobs=-1)]: Done  81 tasks      | elapsed:    4.2s\n",
      "[Parallel(n_jobs=-1)]: Done  96 tasks      | elapsed:    4.8s\n",
      "[Parallel(n_jobs=-1)]: Done 113 tasks      | elapsed:    5.4s\n",
      "[Parallel(n_jobs=-1)]: Done 130 tasks      | elapsed:    5.9s\n",
      "[Parallel(n_jobs=-1)]: Done 149 tasks      | elapsed:    6.5s\n",
      "[Parallel(n_jobs=-1)]: Done 168 tasks      | elapsed:    7.0s\n",
      "[Parallel(n_jobs=-1)]: Done 189 tasks      | elapsed:    7.7s\n",
      "[Parallel(n_jobs=-1)]: Done 210 tasks      | elapsed:    8.5s\n",
      "[Parallel(n_jobs=-1)]: Done 233 tasks      | elapsed:    9.3s\n",
      "[Parallel(n_jobs=-1)]: Done 256 tasks      | elapsed:   10.0s\n",
      "[Parallel(n_jobs=-1)]: Done 281 tasks      | elapsed:   10.9s\n",
      "[Parallel(n_jobs=-1)]: Done 306 tasks      | elapsed:   11.7s\n",
      "[Parallel(n_jobs=-1)]: Done 333 tasks      | elapsed:   12.5s\n",
      "[Parallel(n_jobs=-1)]: Done 360 tasks      | elapsed:   13.4s\n",
      "[Parallel(n_jobs=-1)]: Done 389 tasks      | elapsed:   14.5s\n",
      "[Parallel(n_jobs=-1)]: Done 418 tasks      | elapsed:   15.3s\n",
      "[Parallel(n_jobs=-1)]: Done 449 tasks      | elapsed:   16.5s\n",
      "[Parallel(n_jobs=-1)]: Done 480 tasks      | elapsed:   17.4s\n",
      "[Parallel(n_jobs=-1)]: Done 513 tasks      | elapsed:   18.5s\n",
      "[Parallel(n_jobs=-1)]: Done 546 tasks      | elapsed:   19.4s\n",
      "[Parallel(n_jobs=-1)]: Done 581 tasks      | elapsed:   20.6s\n",
      "[Parallel(n_jobs=-1)]: Done 616 tasks      | elapsed:   21.8s\n",
      "[Parallel(n_jobs=-1)]: Done 653 tasks      | elapsed:   23.0s\n",
      "[Parallel(n_jobs=-1)]: Done 690 tasks      | elapsed:   24.1s\n",
      "[Parallel(n_jobs=-1)]: Done 729 tasks      | elapsed:   25.4s\n",
      "[Parallel(n_jobs=-1)]: Done 768 tasks      | elapsed:   26.7s\n",
      "[Parallel(n_jobs=-1)]: Done 809 tasks      | elapsed:   28.1s\n",
      "[Parallel(n_jobs=-1)]: Done 850 tasks      | elapsed:   29.5s\n",
      "[Parallel(n_jobs=-1)]: Done 893 tasks      | elapsed:   30.9s\n",
      "[Parallel(n_jobs=-1)]: Done 945 out of 945 | elapsed:   32.7s finished\n",
      "/home/jim/.local/lib/python3.6/site-packages/sklearn/preprocessing/label.py:219: DataConversionWarning: A column-vector y was passed when a 1d array was expected. Please change the shape of y to (n_samples, ), for example using ravel().\n",
      "  y = column_or_1d(y, warn=True)\n",
      "/home/jim/.local/lib/python3.6/site-packages/sklearn/preprocessing/label.py:252: DataConversionWarning: A column-vector y was passed when a 1d array was expected. Please change the shape of y to (n_samples, ), for example using ravel().\n",
      "  y = column_or_1d(y, warn=True)\n"
     ]
    }
   ],
   "source": [
    "import xgboost as xgb\n",
    "from sklearn import metrics\n",
    "from scipy.stats import uniform as sp_randFloat\n",
    "from scipy.stats import randint as sp_randInt \n",
    "from sklearn.model_selection import GridSearchCV\n",
    "\n",
    "\n",
    "model = xgb.XGBClassifier()\n",
    "param_dist = {\"max_depth\": [2,5,10,30,50],\n",
    "              \"min_child_weight\" : [1,3,6],\n",
    "              \"n_estimators\": [50,100,200,300,400,500,600],\n",
    "              \"learning_rate\": [0.05, 0.1,0.16],}\n",
    "grid_search_xgb_ori,output['XGB_ori']= builtmodel(model,param_dist,x_train_ori,x_test_ori,output_x_ori)\n",
    "grid_search_xgb_std,output['XGB_std']= builtmodel(model,param_dist,x_train_std,x_test_std,output_x_std)"
   ]
  },
  {
   "cell_type": "code",
   "execution_count": 60,
   "metadata": {
    "collapsed": true
   },
   "outputs": [
    {
     "name": "stdout",
     "output_type": "stream",
     "text": [
      "Fitting 3 folds for each of 576 candidates, totalling 1728 fits\n"
     ]
    },
    {
     "name": "stderr",
     "output_type": "stream",
     "text": [
      "[Parallel(n_jobs=-1)]: Using backend LokyBackend with 16 concurrent workers.\n",
      "[Parallel(n_jobs=-1)]: Done   9 tasks      | elapsed:    1.4s\n",
      "[Parallel(n_jobs=-1)]: Done  18 tasks      | elapsed:    1.5s\n",
      "[Parallel(n_jobs=-1)]: Done  29 tasks      | elapsed:    1.6s\n",
      "[Parallel(n_jobs=-1)]: Done  40 tasks      | elapsed:    1.7s\n",
      "[Parallel(n_jobs=-1)]: Done  53 tasks      | elapsed:    1.7s\n",
      "[Parallel(n_jobs=-1)]: Batch computation too fast (0.1966s.) Setting batch_size=2.\n",
      "[Parallel(n_jobs=-1)]: Done  66 tasks      | elapsed:    1.8s\n",
      "[Parallel(n_jobs=-1)]: Done  81 tasks      | elapsed:    1.9s\n",
      "[Parallel(n_jobs=-1)]: Done  96 tasks      | elapsed:    2.0s\n",
      "[Parallel(n_jobs=-1)]: Done 130 tasks      | elapsed:    2.2s\n",
      "[Parallel(n_jobs=-1)]: Done 164 tasks      | elapsed:    2.5s\n",
      "[Parallel(n_jobs=-1)]: Done 202 tasks      | elapsed:    2.8s\n",
      "[Parallel(n_jobs=-1)]: Done 240 tasks      | elapsed:    3.4s\n",
      "[Parallel(n_jobs=-1)]: Done 282 tasks      | elapsed:    3.8s\n",
      "[Parallel(n_jobs=-1)]: Done 324 tasks      | elapsed:    4.6s\n",
      "[Parallel(n_jobs=-1)]: Done 370 tasks      | elapsed:    5.2s\n",
      "[Parallel(n_jobs=-1)]: Done 416 tasks      | elapsed:    5.9s\n",
      "[Parallel(n_jobs=-1)]: Done 466 tasks      | elapsed:    6.2s\n",
      "[Parallel(n_jobs=-1)]: Done 516 tasks      | elapsed:    6.6s\n",
      "[Parallel(n_jobs=-1)]: Done 570 tasks      | elapsed:    6.9s\n",
      "[Parallel(n_jobs=-1)]: Done 624 tasks      | elapsed:    7.7s\n",
      "[Parallel(n_jobs=-1)]: Done 682 tasks      | elapsed:    8.5s\n",
      "[Parallel(n_jobs=-1)]: Done 740 tasks      | elapsed:    9.6s\n",
      "[Parallel(n_jobs=-1)]: Done 802 tasks      | elapsed:   11.0s\n",
      "[Parallel(n_jobs=-1)]: Done 864 tasks      | elapsed:   12.2s\n",
      "[Parallel(n_jobs=-1)]: Done 930 tasks      | elapsed:   12.7s\n",
      "[Parallel(n_jobs=-1)]: Done 996 tasks      | elapsed:   13.1s\n",
      "[Parallel(n_jobs=-1)]: Done 1066 tasks      | elapsed:   14.2s\n",
      "[Parallel(n_jobs=-1)]: Done 1136 tasks      | elapsed:   15.4s\n",
      "[Parallel(n_jobs=-1)]: Done 1210 tasks      | elapsed:   17.7s\n",
      "[Parallel(n_jobs=-1)]: Batch computation too slow (2.0092s.) Setting batch_size=1.\n",
      "[Parallel(n_jobs=-1)]: Done 1284 tasks      | elapsed:   19.8s\n",
      "[Parallel(n_jobs=-1)]: Done 1335 tasks      | elapsed:   20.3s\n",
      "[Parallel(n_jobs=-1)]: Done 1376 tasks      | elapsed:   20.6s\n",
      "[Parallel(n_jobs=-1)]: Done 1417 tasks      | elapsed:   21.0s\n",
      "[Parallel(n_jobs=-1)]: Done 1458 tasks      | elapsed:   21.9s\n",
      "[Parallel(n_jobs=-1)]: Done 1501 tasks      | elapsed:   22.9s\n",
      "[Parallel(n_jobs=-1)]: Done 1544 tasks      | elapsed:   24.1s\n",
      "[Parallel(n_jobs=-1)]: Done 1589 tasks      | elapsed:   25.7s\n",
      "[Parallel(n_jobs=-1)]: Done 1634 tasks      | elapsed:   28.2s\n",
      "[Parallel(n_jobs=-1)]: Done 1681 tasks      | elapsed:   30.7s\n",
      "[Parallel(n_jobs=-1)]: Done 1728 out of 1728 | elapsed:   33.3s finished\n"
     ]
    },
    {
     "name": "stdout",
     "output_type": "stream",
     "text": [
      "0:\tlearn: 0.6545354\ttotal: 52.9ms\tremaining: 5.24s\n",
      "1:\tlearn: 0.6217608\ttotal: 54.9ms\tremaining: 2.69s\n",
      "2:\tlearn: 0.5972232\ttotal: 56.5ms\tremaining: 1.83s\n",
      "3:\tlearn: 0.5748267\ttotal: 58ms\tremaining: 1.39s\n",
      "4:\tlearn: 0.5572637\ttotal: 59.4ms\tremaining: 1.13s\n",
      "5:\tlearn: 0.5401510\ttotal: 60.8ms\tremaining: 953ms\n",
      "6:\tlearn: 0.5261711\ttotal: 62.3ms\tremaining: 828ms\n",
      "7:\tlearn: 0.5150544\ttotal: 63.7ms\tremaining: 733ms\n",
      "8:\tlearn: 0.5033830\ttotal: 65ms\tremaining: 658ms\n",
      "9:\tlearn: 0.4924512\ttotal: 66.4ms\tremaining: 598ms\n",
      "10:\tlearn: 0.4839327\ttotal: 67.7ms\tremaining: 548ms\n",
      "11:\tlearn: 0.4770040\ttotal: 69.1ms\tremaining: 506ms\n",
      "12:\tlearn: 0.4691104\ttotal: 70.4ms\tremaining: 471ms\n",
      "13:\tlearn: 0.4616937\ttotal: 71.8ms\tremaining: 441ms\n",
      "14:\tlearn: 0.4579194\ttotal: 73.1ms\tremaining: 414ms\n",
      "15:\tlearn: 0.4530764\ttotal: 75.9ms\tremaining: 398ms\n",
      "16:\tlearn: 0.4476345\ttotal: 78.3ms\tremaining: 382ms\n",
      "17:\tlearn: 0.4429763\ttotal: 80.6ms\tremaining: 367ms\n",
      "18:\tlearn: 0.4402542\ttotal: 81.8ms\tremaining: 349ms\n",
      "19:\tlearn: 0.4377353\ttotal: 83ms\tremaining: 332ms\n",
      "20:\tlearn: 0.4342262\ttotal: 84.2ms\tremaining: 317ms\n",
      "21:\tlearn: 0.4311859\ttotal: 85.4ms\tremaining: 303ms\n",
      "22:\tlearn: 0.4274475\ttotal: 86.6ms\tremaining: 290ms\n",
      "23:\tlearn: 0.4241219\ttotal: 88.1ms\tremaining: 279ms\n",
      "24:\tlearn: 0.4209434\ttotal: 89.3ms\tremaining: 268ms\n",
      "25:\tlearn: 0.4192852\ttotal: 90.8ms\tremaining: 259ms\n",
      "26:\tlearn: 0.4169125\ttotal: 92ms\tremaining: 249ms\n",
      "27:\tlearn: 0.4156144\ttotal: 93.1ms\tremaining: 239ms\n",
      "28:\tlearn: 0.4124548\ttotal: 94.3ms\tremaining: 231ms\n",
      "29:\tlearn: 0.4110433\ttotal: 96.6ms\tremaining: 225ms\n",
      "30:\tlearn: 0.4108185\ttotal: 97.5ms\tremaining: 217ms\n",
      "31:\tlearn: 0.4087580\ttotal: 98.7ms\tremaining: 210ms\n",
      "32:\tlearn: 0.4075989\ttotal: 99.9ms\tremaining: 203ms\n",
      "33:\tlearn: 0.4063970\ttotal: 101ms\tremaining: 196ms\n",
      "34:\tlearn: 0.4052810\ttotal: 102ms\tremaining: 190ms\n",
      "35:\tlearn: 0.4049098\ttotal: 104ms\tremaining: 184ms\n",
      "36:\tlearn: 0.4032534\ttotal: 105ms\tremaining: 179ms\n",
      "37:\tlearn: 0.4020688\ttotal: 108ms\tremaining: 176ms\n",
      "38:\tlearn: 0.4011862\ttotal: 109ms\tremaining: 171ms\n",
      "39:\tlearn: 0.3989670\ttotal: 111ms\tremaining: 166ms\n",
      "40:\tlearn: 0.3977107\ttotal: 112ms\tremaining: 161ms\n",
      "41:\tlearn: 0.3961542\ttotal: 113ms\tremaining: 156ms\n",
      "42:\tlearn: 0.3951410\ttotal: 114ms\tremaining: 151ms\n",
      "43:\tlearn: 0.3949529\ttotal: 116ms\tremaining: 147ms\n",
      "44:\tlearn: 0.3932391\ttotal: 120ms\tremaining: 146ms\n",
      "45:\tlearn: 0.3922992\ttotal: 121ms\tremaining: 142ms\n",
      "46:\tlearn: 0.3912860\ttotal: 122ms\tremaining: 138ms\n",
      "47:\tlearn: 0.3905021\ttotal: 123ms\tremaining: 134ms\n",
      "48:\tlearn: 0.3891050\ttotal: 125ms\tremaining: 130ms\n",
      "49:\tlearn: 0.3887305\ttotal: 126ms\tremaining: 126ms\n",
      "50:\tlearn: 0.3872578\ttotal: 128ms\tremaining: 123ms\n",
      "51:\tlearn: 0.3864912\ttotal: 129ms\tremaining: 119ms\n",
      "52:\tlearn: 0.3860581\ttotal: 130ms\tremaining: 115ms\n",
      "53:\tlearn: 0.3851631\ttotal: 131ms\tremaining: 111ms\n",
      "54:\tlearn: 0.3841517\ttotal: 131ms\tremaining: 108ms\n",
      "55:\tlearn: 0.3835997\ttotal: 132ms\tremaining: 104ms\n",
      "56:\tlearn: 0.3829635\ttotal: 133ms\tremaining: 100ms\n",
      "57:\tlearn: 0.3821604\ttotal: 134ms\tremaining: 97.1ms\n",
      "58:\tlearn: 0.3816089\ttotal: 135ms\tremaining: 93.6ms\n",
      "59:\tlearn: 0.3810357\ttotal: 135ms\tremaining: 90.2ms\n",
      "60:\tlearn: 0.3805516\ttotal: 136ms\tremaining: 86.9ms\n",
      "61:\tlearn: 0.3801618\ttotal: 137ms\tremaining: 83.7ms\n",
      "62:\tlearn: 0.3798652\ttotal: 138ms\tremaining: 81.3ms\n",
      "63:\tlearn: 0.3786608\ttotal: 139ms\tremaining: 78.3ms\n",
      "64:\tlearn: 0.3780895\ttotal: 141ms\tremaining: 76ms\n",
      "65:\tlearn: 0.3776914\ttotal: 142ms\tremaining: 73ms\n",
      "66:\tlearn: 0.3772434\ttotal: 142ms\tremaining: 70.1ms\n",
      "67:\tlearn: 0.3768275\ttotal: 143ms\tremaining: 67.2ms\n",
      "68:\tlearn: 0.3763242\ttotal: 143ms\tremaining: 64.4ms\n",
      "69:\tlearn: 0.3754777\ttotal: 144ms\tremaining: 61.6ms\n",
      "70:\tlearn: 0.3748226\ttotal: 144ms\tremaining: 58.9ms\n",
      "71:\tlearn: 0.3741899\ttotal: 145ms\tremaining: 56.3ms\n",
      "72:\tlearn: 0.3733615\ttotal: 145ms\tremaining: 53.7ms\n",
      "73:\tlearn: 0.3730664\ttotal: 146ms\tremaining: 51.2ms\n",
      "74:\tlearn: 0.3725607\ttotal: 146ms\tremaining: 48.7ms\n",
      "75:\tlearn: 0.3715755\ttotal: 147ms\tremaining: 46.3ms\n",
      "76:\tlearn: 0.3709850\ttotal: 147ms\tremaining: 44ms\n",
      "77:\tlearn: 0.3704361\ttotal: 148ms\tremaining: 41.6ms\n",
      "78:\tlearn: 0.3698735\ttotal: 148ms\tremaining: 39.4ms\n",
      "79:\tlearn: 0.3694368\ttotal: 148ms\tremaining: 37.1ms\n",
      "80:\tlearn: 0.3688207\ttotal: 149ms\tremaining: 34.9ms\n",
      "81:\tlearn: 0.3675990\ttotal: 149ms\tremaining: 32.8ms\n",
      "82:\tlearn: 0.3672159\ttotal: 150ms\tremaining: 30.7ms\n",
      "83:\tlearn: 0.3667438\ttotal: 150ms\tremaining: 28.6ms\n",
      "84:\tlearn: 0.3661006\ttotal: 151ms\tremaining: 26.6ms\n",
      "85:\tlearn: 0.3653264\ttotal: 151ms\tremaining: 24.6ms\n",
      "86:\tlearn: 0.3650642\ttotal: 151ms\tremaining: 22.6ms\n",
      "87:\tlearn: 0.3645923\ttotal: 152ms\tremaining: 20.7ms\n",
      "88:\tlearn: 0.3640136\ttotal: 152ms\tremaining: 18.8ms\n",
      "89:\tlearn: 0.3636763\ttotal: 153ms\tremaining: 17ms\n",
      "90:\tlearn: 0.3630771\ttotal: 153ms\tremaining: 15.1ms\n",
      "91:\tlearn: 0.3618393\ttotal: 153ms\tremaining: 13.3ms\n",
      "92:\tlearn: 0.3611912\ttotal: 154ms\tremaining: 11.6ms\n",
      "93:\tlearn: 0.3608683\ttotal: 154ms\tremaining: 9.84ms\n",
      "94:\tlearn: 0.3603290\ttotal: 155ms\tremaining: 8.13ms\n",
      "95:\tlearn: 0.3594028\ttotal: 155ms\tremaining: 6.45ms\n",
      "96:\tlearn: 0.3590279\ttotal: 155ms\tremaining: 4.8ms\n",
      "97:\tlearn: 0.3585879\ttotal: 156ms\tremaining: 3.17ms\n",
      "98:\tlearn: 0.3583858\ttotal: 156ms\tremaining: 1.57ms\n",
      "99:\tlearn: 0.3578957\ttotal: 156ms\tremaining: 0us\n",
      "Fitting 3 folds for each of 576 candidates, totalling 1728 fits\n"
     ]
    },
    {
     "name": "stderr",
     "output_type": "stream",
     "text": [
      "[Parallel(n_jobs=-1)]: Using backend LokyBackend with 16 concurrent workers.\n",
      "[Parallel(n_jobs=-1)]: Done   9 tasks      | elapsed:    1.4s\n",
      "[Parallel(n_jobs=-1)]: Done  18 tasks      | elapsed:    1.6s\n",
      "[Parallel(n_jobs=-1)]: Done  29 tasks      | elapsed:    1.6s\n",
      "[Parallel(n_jobs=-1)]: Done  40 tasks      | elapsed:    2.1s\n",
      "[Parallel(n_jobs=-1)]: Done  53 tasks      | elapsed:    2.1s\n",
      "[Parallel(n_jobs=-1)]: Done  66 tasks      | elapsed:    2.2s\n",
      "[Parallel(n_jobs=-1)]: Batch computation too fast (0.1991s.) Setting batch_size=2.\n",
      "[Parallel(n_jobs=-1)]: Done  81 tasks      | elapsed:    2.3s\n",
      "[Parallel(n_jobs=-1)]: Done  96 tasks      | elapsed:    2.3s\n",
      "[Parallel(n_jobs=-1)]: Done 114 tasks      | elapsed:    2.5s\n",
      "[Parallel(n_jobs=-1)]: Batch computation too fast (0.1978s.) Setting batch_size=4.\n",
      "[Parallel(n_jobs=-1)]: Done 148 tasks      | elapsed:    2.8s\n",
      "[Parallel(n_jobs=-1)]: Done 196 tasks      | elapsed:    3.5s\n",
      "[Parallel(n_jobs=-1)]: Done 272 tasks      | elapsed:    4.5s\n",
      "[Parallel(n_jobs=-1)]: Done 356 tasks      | elapsed:    5.8s\n",
      "[Parallel(n_jobs=-1)]: Batch computation too slow (2.0391s.) Setting batch_size=1.\n",
      "[Parallel(n_jobs=-1)]: Done 440 tasks      | elapsed:    7.2s\n",
      "[Parallel(n_jobs=-1)]: Done 526 tasks      | elapsed:    7.7s\n",
      "[Parallel(n_jobs=-1)]: Done 570 tasks      | elapsed:    8.0s\n",
      "[Parallel(n_jobs=-1)]: Done 601 tasks      | elapsed:    8.3s\n",
      "[Parallel(n_jobs=-1)]: Done 626 tasks      | elapsed:    8.6s\n",
      "[Parallel(n_jobs=-1)]: Done 653 tasks      | elapsed:    9.4s\n",
      "[Parallel(n_jobs=-1)]: Done 680 tasks      | elapsed:    9.8s\n",
      "[Parallel(n_jobs=-1)]: Done 709 tasks      | elapsed:   10.2s\n",
      "[Parallel(n_jobs=-1)]: Done 738 tasks      | elapsed:   10.8s\n",
      "[Parallel(n_jobs=-1)]: Done 769 tasks      | elapsed:   11.6s\n",
      "[Parallel(n_jobs=-1)]: Done 800 tasks      | elapsed:   12.3s\n",
      "[Parallel(n_jobs=-1)]: Done 833 tasks      | elapsed:   13.4s\n",
      "[Parallel(n_jobs=-1)]: Done 866 tasks      | elapsed:   16.3s\n",
      "[Parallel(n_jobs=-1)]: Done 901 tasks      | elapsed:   16.6s\n",
      "[Parallel(n_jobs=-1)]: Done 936 tasks      | elapsed:   16.8s\n",
      "[Parallel(n_jobs=-1)]: Done 973 tasks      | elapsed:   17.1s\n",
      "[Parallel(n_jobs=-1)]: Done 1010 tasks      | elapsed:   17.5s\n",
      "[Parallel(n_jobs=-1)]: Done 1049 tasks      | elapsed:   18.1s\n",
      "[Parallel(n_jobs=-1)]: Done 1088 tasks      | elapsed:   18.8s\n",
      "[Parallel(n_jobs=-1)]: Done 1129 tasks      | elapsed:   19.4s\n",
      "[Parallel(n_jobs=-1)]: Done 1170 tasks      | elapsed:   20.7s\n",
      "[Parallel(n_jobs=-1)]: Done 1213 tasks      | elapsed:   21.9s\n",
      "[Parallel(n_jobs=-1)]: Done 1256 tasks      | elapsed:   23.4s\n",
      "[Parallel(n_jobs=-1)]: Done 1301 tasks      | elapsed:   24.5s\n",
      "[Parallel(n_jobs=-1)]: Done 1346 tasks      | elapsed:   25.0s\n",
      "[Parallel(n_jobs=-1)]: Done 1393 tasks      | elapsed:   25.4s\n",
      "[Parallel(n_jobs=-1)]: Done 1440 tasks      | elapsed:   25.8s\n",
      "[Parallel(n_jobs=-1)]: Done 1489 tasks      | elapsed:   27.2s\n",
      "[Parallel(n_jobs=-1)]: Done 1538 tasks      | elapsed:   28.8s\n",
      "[Parallel(n_jobs=-1)]: Done 1589 tasks      | elapsed:   30.6s\n",
      "[Parallel(n_jobs=-1)]: Done 1640 tasks      | elapsed:   33.3s\n",
      "[Parallel(n_jobs=-1)]: Done 1693 tasks      | elapsed:   36.2s\n"
     ]
    },
    {
     "name": "stdout",
     "output_type": "stream",
     "text": [
      "0:\tlearn: 0.6545354\ttotal: 345us\tremaining: 34.2ms\n",
      "1:\tlearn: 0.6217608\ttotal: 706us\tremaining: 34.6ms\n",
      "2:\tlearn: 0.5972232\ttotal: 985us\tremaining: 31.9ms\n",
      "3:\tlearn: 0.5748267\ttotal: 1.27ms\tremaining: 30.6ms\n",
      "4:\tlearn: 0.5572637\ttotal: 1.56ms\tremaining: 29.6ms\n",
      "5:\tlearn: 0.5401510\ttotal: 1.84ms\tremaining: 28.8ms\n",
      "6:\tlearn: 0.5261711\ttotal: 2.12ms\tremaining: 28.1ms\n",
      "7:\tlearn: 0.5150544\ttotal: 2.4ms\tremaining: 27.7ms\n",
      "8:\tlearn: 0.5033830\ttotal: 2.64ms\tremaining: 26.7ms\n",
      "9:\tlearn: 0.4924512\ttotal: 2.88ms\tremaining: 25.9ms\n",
      "10:\tlearn: 0.4839327\ttotal: 3.12ms\tremaining: 25.2ms\n",
      "11:\tlearn: 0.4770040\ttotal: 3.35ms\tremaining: 24.6ms\n",
      "12:\tlearn: 0.4691104\ttotal: 3.59ms\tremaining: 24ms\n",
      "13:\tlearn: 0.4616937\ttotal: 3.82ms\tremaining: 23.5ms\n",
      "14:\tlearn: 0.4579194\ttotal: 4.05ms\tremaining: 22.9ms\n",
      "15:\tlearn: 0.4530764\ttotal: 4.29ms\tremaining: 22.6ms\n",
      "16:\tlearn: 0.4476345\ttotal: 4.53ms\tremaining: 22.1ms\n",
      "17:\tlearn: 0.4429763\ttotal: 4.78ms\tremaining: 21.8ms\n",
      "18:\tlearn: 0.4402542\ttotal: 5.01ms\tremaining: 21.3ms\n",
      "19:\tlearn: 0.4377353\ttotal: 5.23ms\tremaining: 20.9ms\n",
      "20:\tlearn: 0.4342262\ttotal: 5.46ms\tremaining: 20.6ms\n",
      "21:\tlearn: 0.4311859\ttotal: 5.7ms\tremaining: 20.2ms\n",
      "22:\tlearn: 0.4274475\ttotal: 5.93ms\tremaining: 19.9ms\n",
      "23:\tlearn: 0.4241219\ttotal: 6.16ms\tremaining: 19.5ms\n",
      "24:\tlearn: 0.4209434\ttotal: 6.39ms\tremaining: 19.2ms\n",
      "25:\tlearn: 0.4192852\ttotal: 6.62ms\tremaining: 18.9ms\n",
      "26:\tlearn: 0.4169125\ttotal: 6.85ms\tremaining: 18.5ms\n",
      "27:\tlearn: 0.4156144\ttotal: 7.09ms\tremaining: 18.2ms\n",
      "28:\tlearn: 0.4124548\ttotal: 7.34ms\tremaining: 18ms\n",
      "29:\tlearn: 0.4110433\ttotal: 7.57ms\tremaining: 17.7ms\n",
      "30:\tlearn: 0.4108185\ttotal: 7.75ms\tremaining: 17.2ms\n",
      "31:\tlearn: 0.4087580\ttotal: 7.98ms\tremaining: 16.9ms\n",
      "32:\tlearn: 0.4075989\ttotal: 8.2ms\tremaining: 16.7ms\n",
      "33:\tlearn: 0.4063970\ttotal: 8.43ms\tremaining: 16.4ms\n",
      "34:\tlearn: 0.4052810\ttotal: 8.66ms\tremaining: 16.1ms\n",
      "35:\tlearn: 0.4049098\ttotal: 8.89ms\tremaining: 15.8ms\n",
      "36:\tlearn: 0.4032534\ttotal: 9.12ms\tremaining: 15.5ms\n",
      "37:\tlearn: 0.4020688\ttotal: 9.34ms\tremaining: 15.2ms\n",
      "38:\tlearn: 0.4011862\ttotal: 9.58ms\tremaining: 15ms\n",
      "39:\tlearn: 0.3989670\ttotal: 9.81ms\tremaining: 14.7ms\n",
      "40:\tlearn: 0.3977107\ttotal: 10ms\tremaining: 14.5ms\n",
      "41:\tlearn: 0.3961542\ttotal: 10.3ms\tremaining: 14.2ms\n",
      "42:\tlearn: 0.3951410\ttotal: 10.5ms\tremaining: 13.9ms\n",
      "43:\tlearn: 0.3949529\ttotal: 10.7ms\tremaining: 13.7ms\n",
      "44:\tlearn: 0.3932391\ttotal: 11ms\tremaining: 13.4ms\n",
      "45:\tlearn: 0.3922992\ttotal: 11.2ms\tremaining: 13.2ms\n",
      "46:\tlearn: 0.3912860\ttotal: 11.4ms\tremaining: 12.9ms\n",
      "47:\tlearn: 0.3905021\ttotal: 11.7ms\tremaining: 12.6ms\n",
      "48:\tlearn: 0.3891050\ttotal: 11.9ms\tremaining: 12.4ms\n",
      "49:\tlearn: 0.3887305\ttotal: 12.1ms\tremaining: 12.1ms\n",
      "50:\tlearn: 0.3872578\ttotal: 12.4ms\tremaining: 11.9ms\n",
      "51:\tlearn: 0.3864912\ttotal: 12.6ms\tremaining: 11.6ms\n",
      "52:\tlearn: 0.3860581\ttotal: 12.8ms\tremaining: 11.4ms\n",
      "53:\tlearn: 0.3851631\ttotal: 13.1ms\tremaining: 11.1ms\n",
      "54:\tlearn: 0.3841517\ttotal: 13.3ms\tremaining: 10.9ms\n",
      "55:\tlearn: 0.3835997\ttotal: 13.5ms\tremaining: 10.6ms\n",
      "56:\tlearn: 0.3829635\ttotal: 13.8ms\tremaining: 10.4ms\n",
      "57:\tlearn: 0.3821604\ttotal: 14.1ms\tremaining: 10.2ms\n",
      "58:\tlearn: 0.3816089\ttotal: 14.3ms\tremaining: 9.94ms\n",
      "59:\tlearn: 0.3810357\ttotal: 14.5ms\tremaining: 9.69ms\n",
      "60:\tlearn: 0.3805516\ttotal: 14.8ms\tremaining: 9.44ms\n",
      "61:\tlearn: 0.3801618\ttotal: 15ms\tremaining: 9.19ms\n",
      "62:\tlearn: 0.3798652\ttotal: 15.2ms\tremaining: 8.94ms\n",
      "63:\tlearn: 0.3786608\ttotal: 15.5ms\tremaining: 8.69ms\n",
      "64:\tlearn: 0.3780895\ttotal: 15.7ms\tremaining: 8.45ms\n",
      "65:\tlearn: 0.3776914\ttotal: 15.9ms\tremaining: 8.2ms\n",
      "66:\tlearn: 0.3772434\ttotal: 16.2ms\tremaining: 7.96ms\n",
      "67:\tlearn: 0.3768275\ttotal: 16.4ms\tremaining: 7.71ms\n",
      "68:\tlearn: 0.3763242\ttotal: 16.6ms\tremaining: 7.47ms\n",
      "69:\tlearn: 0.3754777\ttotal: 16.9ms\tremaining: 7.23ms\n",
      "70:\tlearn: 0.3748226\ttotal: 17.1ms\tremaining: 6.99ms\n",
      "71:\tlearn: 0.3741899\ttotal: 17.3ms\tremaining: 6.74ms\n",
      "72:\tlearn: 0.3733615\ttotal: 17.6ms\tremaining: 6.49ms\n",
      "73:\tlearn: 0.3730664\ttotal: 17.8ms\tremaining: 6.25ms\n",
      "74:\tlearn: 0.3725607\ttotal: 18ms\tremaining: 6.01ms\n",
      "75:\tlearn: 0.3715755\ttotal: 18.3ms\tremaining: 5.77ms\n",
      "76:\tlearn: 0.3709850\ttotal: 18.5ms\tremaining: 5.52ms\n",
      "77:\tlearn: 0.3704361\ttotal: 18.7ms\tremaining: 5.28ms\n",
      "78:\tlearn: 0.3698735\ttotal: 19ms\tremaining: 5.04ms\n",
      "79:\tlearn: 0.3694368\ttotal: 19.2ms\tremaining: 4.8ms\n",
      "80:\tlearn: 0.3688207\ttotal: 19.4ms\tremaining: 4.56ms\n",
      "81:\tlearn: 0.3675990\ttotal: 19.7ms\tremaining: 4.31ms\n",
      "82:\tlearn: 0.3672159\ttotal: 19.9ms\tremaining: 4.07ms\n",
      "83:\tlearn: 0.3667438\ttotal: 20.1ms\tremaining: 3.83ms\n",
      "84:\tlearn: 0.3661006\ttotal: 20.3ms\tremaining: 3.59ms\n",
      "85:\tlearn: 0.3653264\ttotal: 20.6ms\tremaining: 3.35ms\n",
      "86:\tlearn: 0.3650642\ttotal: 20.8ms\tremaining: 3.11ms\n",
      "87:\tlearn: 0.3645923\ttotal: 21ms\tremaining: 2.87ms\n",
      "88:\tlearn: 0.3640136\ttotal: 21.3ms\tremaining: 2.63ms\n",
      "89:\tlearn: 0.3636763\ttotal: 21.5ms\tremaining: 2.39ms\n",
      "90:\tlearn: 0.3630771\ttotal: 21.7ms\tremaining: 2.15ms\n",
      "91:\tlearn: 0.3618393\ttotal: 22ms\tremaining: 1.91ms\n",
      "92:\tlearn: 0.3611912\ttotal: 22.2ms\tremaining: 1.67ms\n",
      "93:\tlearn: 0.3608683\ttotal: 22.4ms\tremaining: 1.43ms\n",
      "94:\tlearn: 0.3603290\ttotal: 22.6ms\tremaining: 1.19ms\n",
      "95:\tlearn: 0.3594028\ttotal: 22.9ms\tremaining: 952us\n",
      "96:\tlearn: 0.3590279\ttotal: 23.1ms\tremaining: 714us\n",
      "97:\tlearn: 0.3585879\ttotal: 23.3ms\tremaining: 476us\n",
      "98:\tlearn: 0.3583858\ttotal: 23.6ms\tremaining: 237us\n",
      "99:\tlearn: 0.3578957\ttotal: 23.8ms\tremaining: 0us\n"
     ]
    },
    {
     "name": "stderr",
     "output_type": "stream",
     "text": [
      "[Parallel(n_jobs=-1)]: Done 1728 out of 1728 | elapsed:   38.0s finished\n"
     ]
    }
   ],
   "source": [
    "import catboost as cb\n",
    "cat_features_index = [0,1,2,3,4,5,6,7,8,9]\n",
    "\n",
    "cb_model = cb.CatBoostClassifier()\n",
    "\n",
    "param_dist = {'depth': [3,6,8,10],\n",
    "           'learning_rate' : [0.1, 0.15,0.5,0.8],\n",
    "          'l2_leaf_reg': [1,4,8],\n",
    "          'iterations': [10,50,100],\n",
    "           'one_hot_max_size':[5,8,10,15]}\n",
    "\n",
    "\n",
    "grid_search_cat_ori,output['cat_ori']= builtmodel(cb_model,param_dist,x_train_ori,x_test_ori,output_x_ori)\n",
    "grid_search_cat_std,output['cat_std']= builtmodel(cb_model,param_dist,x_train_std,x_test_std,output_x_std)"
   ]
  },
  {
   "cell_type": "code",
   "execution_count": 61,
   "metadata": {
    "collapsed": true
   },
   "outputs": [
    {
     "name": "stdout",
     "output_type": "stream",
     "text": [
      "Fitting 3 folds for each of 144 candidates, totalling 432 fits\n"
     ]
    },
    {
     "name": "stderr",
     "output_type": "stream",
     "text": [
      "[Parallel(n_jobs=-1)]: Using backend LokyBackend with 16 concurrent workers.\n",
      "[Parallel(n_jobs=-1)]: Done   9 tasks      | elapsed:    1.2s\n",
      "[Parallel(n_jobs=-1)]: Done  18 tasks      | elapsed:    1.3s\n",
      "[Parallel(n_jobs=-1)]: Done  29 tasks      | elapsed:    1.4s\n",
      "[Parallel(n_jobs=-1)]: Done  40 tasks      | elapsed:    1.4s\n",
      "[Parallel(n_jobs=-1)]: Done  53 tasks      | elapsed:    1.5s\n",
      "[Parallel(n_jobs=-1)]: Done  66 tasks      | elapsed:    1.7s\n",
      "[Parallel(n_jobs=-1)]: Done  81 tasks      | elapsed:    1.8s\n",
      "[Parallel(n_jobs=-1)]: Done  96 tasks      | elapsed:    2.0s\n",
      "[Parallel(n_jobs=-1)]: Done 113 tasks      | elapsed:    2.1s\n",
      "[Parallel(n_jobs=-1)]: Done 130 tasks      | elapsed:    2.3s\n",
      "[Parallel(n_jobs=-1)]: Done 149 tasks      | elapsed:    2.5s\n",
      "[Parallel(n_jobs=-1)]: Done 168 tasks      | elapsed:    2.6s\n",
      "[Parallel(n_jobs=-1)]: Batch computation too fast (0.1962s.) Setting batch_size=2.\n",
      "[Parallel(n_jobs=-1)]: Done 189 tasks      | elapsed:    2.7s\n",
      "[Parallel(n_jobs=-1)]: Done 212 tasks      | elapsed:    3.0s\n",
      "[Parallel(n_jobs=-1)]: Done 258 tasks      | elapsed:    3.4s\n",
      "[Parallel(n_jobs=-1)]: Done 304 tasks      | elapsed:    3.9s\n",
      "[Parallel(n_jobs=-1)]: Done 354 tasks      | elapsed:    4.2s\n",
      "[Parallel(n_jobs=-1)]: Done 432 out of 432 | elapsed:    5.0s finished\n",
      "/home/jim/.local/lib/python3.6/site-packages/sklearn/preprocessing/label.py:219: DataConversionWarning: A column-vector y was passed when a 1d array was expected. Please change the shape of y to (n_samples, ), for example using ravel().\n",
      "  y = column_or_1d(y, warn=True)\n",
      "/home/jim/.local/lib/python3.6/site-packages/sklearn/preprocessing/label.py:252: DataConversionWarning: A column-vector y was passed when a 1d array was expected. Please change the shape of y to (n_samples, ), for example using ravel().\n",
      "  y = column_or_1d(y, warn=True)\n"
     ]
    },
    {
     "name": "stdout",
     "output_type": "stream",
     "text": [
      "Fitting 3 folds for each of 144 candidates, totalling 432 fits\n"
     ]
    },
    {
     "name": "stderr",
     "output_type": "stream",
     "text": [
      "[Parallel(n_jobs=-1)]: Using backend LokyBackend with 16 concurrent workers.\n",
      "[Parallel(n_jobs=-1)]: Done   9 tasks      | elapsed:    1.0s\n",
      "[Parallel(n_jobs=-1)]: Done  18 tasks      | elapsed:    1.2s\n",
      "[Parallel(n_jobs=-1)]: Done  29 tasks      | elapsed:    1.2s\n",
      "[Parallel(n_jobs=-1)]: Done  40 tasks      | elapsed:    1.3s\n",
      "[Parallel(n_jobs=-1)]: Done  53 tasks      | elapsed:    1.5s\n",
      "[Parallel(n_jobs=-1)]: Done  66 tasks      | elapsed:    1.6s\n",
      "[Parallel(n_jobs=-1)]: Done  81 tasks      | elapsed:    1.7s\n",
      "[Parallel(n_jobs=-1)]: Done  96 tasks      | elapsed:    1.9s\n",
      "[Parallel(n_jobs=-1)]: Done 113 tasks      | elapsed:    2.1s\n",
      "[Parallel(n_jobs=-1)]: Done 130 tasks      | elapsed:    2.3s\n",
      "[Parallel(n_jobs=-1)]: Done 149 tasks      | elapsed:    2.5s\n",
      "[Parallel(n_jobs=-1)]: Done 168 tasks      | elapsed:    2.6s\n",
      "[Parallel(n_jobs=-1)]: Done 189 tasks      | elapsed:    2.7s\n",
      "[Parallel(n_jobs=-1)]: Batch computation too fast (0.1969s.) Setting batch_size=2.\n",
      "[Parallel(n_jobs=-1)]: Done 210 tasks      | elapsed:    3.0s\n",
      "[Parallel(n_jobs=-1)]: Done 233 tasks      | elapsed:    3.2s\n",
      "[Parallel(n_jobs=-1)]: Done 272 tasks      | elapsed:    3.6s\n",
      "[Parallel(n_jobs=-1)]: Done 322 tasks      | elapsed:    4.0s\n",
      "[Parallel(n_jobs=-1)]: Done 432 out of 432 | elapsed:    5.1s finished\n",
      "/home/jim/.local/lib/python3.6/site-packages/sklearn/preprocessing/label.py:219: DataConversionWarning: A column-vector y was passed when a 1d array was expected. Please change the shape of y to (n_samples, ), for example using ravel().\n",
      "  y = column_or_1d(y, warn=True)\n",
      "/home/jim/.local/lib/python3.6/site-packages/sklearn/preprocessing/label.py:252: DataConversionWarning: A column-vector y was passed when a 1d array was expected. Please change the shape of y to (n_samples, ), for example using ravel().\n",
      "  y = column_or_1d(y, warn=True)\n"
     ]
    }
   ],
   "source": [
    "import lightgbm as lgb\n",
    "\n",
    "def auc2(m, train, test): \n",
    "    return (metrics.roc_auc_score(y_train,m.predict(train)),\n",
    "                            metrics.roc_auc_score(y_test,m.predict(test)))\n",
    "\n",
    "model = lgb.LGBMClassifier(silent=False)\n",
    "param_dist = {\"max_depth\": [3,5,10,25],\n",
    "              \"learning_rate\" : [0.01,0.05,0.1],\n",
    "              \"num_leaves\": [300,900,1200],\n",
    "              \"n_estimators\": [200,300,400,500]\n",
    "             }\n",
    "\n",
    "grid_search_lgb_ori,output['lgb_ori']= builtmodel(model,param_dist,x_train_ori,x_test_ori,output_x_ori)\n",
    "grid_search_lgb_std,output['lgb_std']= builtmodel(model,param_dist,x_train_std,x_test_std,output_x_std)"
   ]
  },
  {
   "cell_type": "code",
   "execution_count": 62,
   "metadata": {
    "collapsed": true
   },
   "outputs": [
    {
     "name": "stdout",
     "output_type": "stream",
     "text": [
      "Fitting 3 folds for each of 500 candidates, totalling 1500 fits\n"
     ]
    },
    {
     "name": "stderr",
     "output_type": "stream",
     "text": [
      "[Parallel(n_jobs=-1)]: Using backend LokyBackend with 16 concurrent workers.\n",
      "[Parallel(n_jobs=-1)]: Done   9 tasks      | elapsed:    1.0s\n",
      "[Parallel(n_jobs=-1)]: Done  18 tasks      | elapsed:    1.1s\n",
      "[Parallel(n_jobs=-1)]: Done  29 tasks      | elapsed:    1.2s\n",
      "[Parallel(n_jobs=-1)]: Done  40 tasks      | elapsed:    1.2s\n",
      "[Parallel(n_jobs=-1)]: Batch computation too fast (0.1939s.) Setting batch_size=2.\n",
      "[Parallel(n_jobs=-1)]: Done  53 tasks      | elapsed:    1.2s\n",
      "[Parallel(n_jobs=-1)]: Done  66 tasks      | elapsed:    1.2s\n",
      "[Parallel(n_jobs=-1)]: Done  82 tasks      | elapsed:    1.3s\n",
      "[Parallel(n_jobs=-1)]: Batch computation too fast (0.0676s.) Setting batch_size=4.\n",
      "[Parallel(n_jobs=-1)]: Done 112 tasks      | elapsed:    1.3s\n",
      "[Parallel(n_jobs=-1)]: Batch computation too fast (0.0790s.) Setting batch_size=8.\n",
      "[Parallel(n_jobs=-1)]: Done 150 tasks      | elapsed:    1.4s\n",
      "[Parallel(n_jobs=-1)]: Done 216 tasks      | elapsed:    1.5s\n",
      "[Parallel(n_jobs=-1)]: Batch computation too fast (0.0842s.) Setting batch_size=16.\n",
      "[Parallel(n_jobs=-1)]: Done 312 tasks      | elapsed:    1.5s\n",
      "[Parallel(n_jobs=-1)]: Done 464 tasks      | elapsed:    1.8s\n",
      "[Parallel(n_jobs=-1)]: Done 736 tasks      | elapsed:    2.1s\n",
      "[Parallel(n_jobs=-1)]: Done 1072 tasks      | elapsed:    2.6s\n",
      "[Parallel(n_jobs=-1)]: Done 1170 tasks      | elapsed:    2.7s\n",
      "[Parallel(n_jobs=-1)]: Done 1238 tasks      | elapsed:    2.7s\n",
      "[Parallel(n_jobs=-1)]: Done 1278 tasks      | elapsed:    2.8s\n",
      "[Parallel(n_jobs=-1)]: Done 1318 tasks      | elapsed:    2.8s\n",
      "[Parallel(n_jobs=-1)]: Done 1360 tasks      | elapsed:    3.0s\n",
      "[Parallel(n_jobs=-1)]: Done 1387 tasks      | elapsed:    3.0s\n",
      "[Parallel(n_jobs=-1)]: Done 1446 tasks      | elapsed:    3.1s\n",
      "[Parallel(n_jobs=-1)]: Done 1469 out of 1500 | elapsed:    3.1s remaining:    0.1s\n",
      "[Parallel(n_jobs=-1)]: Done 1500 out of 1500 | elapsed:    3.2s finished\n",
      "/home/jim/.local/lib/python3.6/site-packages/sklearn/utils/validation.py:724: DataConversionWarning: A column-vector y was passed when a 1d array was expected. Please change the shape of y to (n_samples, ), for example using ravel().\n",
      "  y = column_or_1d(y, warn=True)\n",
      "/home/jim/.local/lib/python3.6/site-packages/sklearn/linear_model/logistic.py:947: ConvergenceWarning: lbfgs failed to converge. Increase the number of iterations.\n",
      "  \"of iterations.\", ConvergenceWarning)\n"
     ]
    },
    {
     "name": "stdout",
     "output_type": "stream",
     "text": [
      "Fitting 3 folds for each of 500 candidates, totalling 1500 fits\n"
     ]
    },
    {
     "name": "stderr",
     "output_type": "stream",
     "text": [
      "[Parallel(n_jobs=-1)]: Using backend LokyBackend with 16 concurrent workers.\n",
      "[Parallel(n_jobs=-1)]: Done   9 tasks      | elapsed:    0.9s\n",
      "[Parallel(n_jobs=-1)]: Done  18 tasks      | elapsed:    0.9s\n",
      "[Parallel(n_jobs=-1)]: Done  29 tasks      | elapsed:    1.0s\n",
      "[Parallel(n_jobs=-1)]: Batch computation too fast (0.1852s.) Setting batch_size=2.\n",
      "[Parallel(n_jobs=-1)]: Done  40 tasks      | elapsed:    1.0s\n",
      "[Parallel(n_jobs=-1)]: Done  53 tasks      | elapsed:    1.1s\n",
      "[Parallel(n_jobs=-1)]: Done  66 tasks      | elapsed:    1.1s\n",
      "[Parallel(n_jobs=-1)]: Done  82 tasks      | elapsed:    1.1s\n",
      "[Parallel(n_jobs=-1)]: Batch computation too fast (0.0660s.) Setting batch_size=4.\n",
      "[Parallel(n_jobs=-1)]: Done 112 tasks      | elapsed:    1.2s\n",
      "[Parallel(n_jobs=-1)]: Done 148 tasks      | elapsed:    1.2s\n",
      "[Parallel(n_jobs=-1)]: Batch computation too fast (0.0771s.) Setting batch_size=8.\n",
      "[Parallel(n_jobs=-1)]: Done 216 tasks      | elapsed:    1.3s\n",
      "[Parallel(n_jobs=-1)]: Batch computation too fast (0.0980s.) Setting batch_size=16.\n",
      "[Parallel(n_jobs=-1)]: Done 312 tasks      | elapsed:    1.4s\n",
      "[Parallel(n_jobs=-1)]: Done 464 tasks      | elapsed:    1.5s\n",
      "[Parallel(n_jobs=-1)]: Batch computation too fast (0.1464s.) Setting batch_size=32.\n",
      "[Parallel(n_jobs=-1)]: Done 736 tasks      | elapsed:    1.7s\n",
      "[Parallel(n_jobs=-1)]: Done 904 tasks      | elapsed:    1.8s\n",
      "[Parallel(n_jobs=-1)]: Done 1034 tasks      | elapsed:    1.9s\n",
      "[Parallel(n_jobs=-1)]: Done 1108 tasks      | elapsed:    1.9s\n",
      "[Parallel(n_jobs=-1)]: Done 1186 tasks      | elapsed:    2.0s\n",
      "[Parallel(n_jobs=-1)]: Done 1236 tasks      | elapsed:    2.1s\n",
      "[Parallel(n_jobs=-1)]: Done 1290 tasks      | elapsed:    2.2s\n",
      "[Parallel(n_jobs=-1)]: Done 1344 tasks      | elapsed:    2.2s\n",
      "[Parallel(n_jobs=-1)]: Done 1402 tasks      | elapsed:    2.3s\n",
      "[Parallel(n_jobs=-1)]: Done 1500 out of 1500 | elapsed:    2.3s finished\n",
      "/home/jim/.local/lib/python3.6/site-packages/sklearn/utils/validation.py:724: DataConversionWarning: A column-vector y was passed when a 1d array was expected. Please change the shape of y to (n_samples, ), for example using ravel().\n",
      "  y = column_or_1d(y, warn=True)\n"
     ]
    }
   ],
   "source": [
    "from sklearn.linear_model import LogisticRegression\n",
    "\n",
    "model = LogisticRegression()\n",
    "param_dist = {\"penalty\": ['l2'],\n",
    "              \"tol\" : [0.001,0.01,0.05,0.1],\n",
    "              \"C\": [0.01,0.1,0.3,0.7,1.0],\n",
    "              \"solver\":['newton-cg', 'lbfgs', 'liblinear', 'sag', 'saga'],\n",
    "              \"max_iter\":[50,150,100,200,300]}\n",
    "\n",
    "grid_search_LR_ori,output['LR_ori']= builtmodel(model,param_dist,x_train_ori,x_test_ori,output_x_ori)\n",
    "grid_search_LR_std,output['LR_std']= builtmodel(model,param_dist,x_train_std,x_test_std,output_x_std)"
   ]
  },
  {
   "cell_type": "markdown",
   "metadata": {},
   "source": [
    "### Stacking"
   ]
  },
  {
   "cell_type": "code",
   "execution_count": 83,
   "metadata": {},
   "outputs": [
    {
     "name": "stdout",
     "output_type": "stream",
     "text": [
      "LR_ori:(0.8817472786443722, 0.8612602935911208)\n",
      "LR_std:(0.8813358021920472, 0.8609022556390977)\n",
      "CatB_ori:(0.9112333071484682, 0.9058807733619764)\n",
      "CatB_std:(0.9112333071484682, 0.9058807733619764)\n",
      "XGB_ori:(0.907501963864886, 0.9233798782670963)\n",
      "XGB_std:(0.907501963864886, 0.9233798782670963)\n",
      "LGB_ori:(0.8480529682414993, 0.8341836734693878)\n",
      "LGB_std:(0.8492967493360266, 0.8341836734693878)\n"
     ]
    }
   ],
   "source": [
    "print(f'LR_ori:{auc(grid_search_LR_ori,x_train_ori, x_test_ori)}')\n",
    "print(f'LR_std:{auc(grid_search_LR_std,x_train_std, x_test_std)}')\n",
    "\n",
    "print(f'CatB_ori:{auc(grid_search_cat_ori,x_train_ori, x_test_ori)}')\n",
    "print(f'CatB_std:{auc(grid_search_cat_std,x_train_std, x_test_std)}')\n",
    "\n",
    "print(f'XGB_ori:{auc(grid_search_xgb_ori,x_train_ori, x_test_ori)}')\n",
    "print(f'XGB_std:{auc(grid_search_xgb_std,x_train_std, x_test_std)}')\n",
    "\n",
    "print(f'LGB_ori:{auc2(grid_search_lgb_ori,x_train_ori, x_test_ori)}')\n",
    "print(f'LGB_std:{auc2(grid_search_lgb_std,x_train_std, x_test_std)}')"
   ]
  },
  {
   "cell_type": "code",
   "execution_count": 80,
   "metadata": {},
   "outputs": [],
   "source": [
    "LR_test_ori=grid_search_LR_ori.predict(x_test_ori)\n",
    "LR_test_std=grid_search_LR_std.predict(x_test_std)\n",
    "lgb_test_ori=grid_search_lgb_ori.predict(x_test_ori)\n",
    "lgb_test_std=grid_search_lgb_std.predict(x_test_std)\n",
    "cat_test_ori=grid_search_cat_ori.predict(x_test_ori)\n",
    "cat_test_std=grid_search_cat_std.predict(x_test_std)\n",
    "xgb_test_ori=grid_search_xgb_ori.predict(x_test_ori)\n",
    "xgb_test_std=grid_search_xgb_std.predict(x_test_std)"
   ]
  },
  {
   "cell_type": "code",
   "execution_count": 81,
   "metadata": {
    "collapsed": true
   },
   "outputs": [
    {
     "name": "stderr",
     "output_type": "stream",
     "text": [
      "/home/jim/.local/lib/python3.6/site-packages/sklearn/linear_model/logistic.py:432: FutureWarning: Default solver will be changed to 'lbfgs' in 0.22. Specify a solver to silence this warning.\n",
      "  FutureWarning)\n",
      "/home/jim/.local/lib/python3.6/site-packages/sklearn/utils/validation.py:724: DataConversionWarning: A column-vector y was passed when a 1d array was expected. Please change the shape of y to (n_samples, ), for example using ravel().\n",
      "  y = column_or_1d(y, warn=True)\n"
     ]
    }
   ],
   "source": [
    "first_x=np.transpose(np.vstack([xgb_test_std,cat_test_std,lgb_test_std,LR_test_std]))\n",
    "first_y=y_test\n",
    "model = LogisticRegression()\n",
    "model.fit(first_x, first_y)\n",
    "gender_submission=pd.read_csv(\"gender_submission.csv\")\n",
    "gender_submission['Survived']=model.predict(output[['XGB_std','cat_std','lgb_std','LR_std']])\n",
    "gender_submission['Survived']=gender_submission['Survived'].astype(int)\n",
    "gender_submission.to_csv('stacking_ori.csv',index=False)"
   ]
  },
  {
   "cell_type": "markdown",
   "metadata": {},
   "source": [
    "**Best Score(AUC):0.80382**<br>\n",
    "**Public Ranking: 1343/15902 (TOP 9%)**"
   ]
  }
 ],
 "metadata": {
  "kernelspec": {
   "display_name": "Python 3",
   "language": "python",
   "name": "python3"
  },
  "language_info": {
   "codemirror_mode": {
    "name": "ipython",
    "version": 3
   },
   "file_extension": ".py",
   "mimetype": "text/x-python",
   "name": "python",
   "nbconvert_exporter": "python",
   "pygments_lexer": "ipython3",
   "version": "3.6.8"
  }
 },
 "nbformat": 4,
 "nbformat_minor": 2
}
